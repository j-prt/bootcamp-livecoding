{
 "cells": [
  {
   "cell_type": "markdown",
   "id": "9cf34e99",
   "metadata": {},
   "source": [
    "### Regex\n",
    "\n",
    "Links: \n",
    "\n",
    "https://docs.python.org/3/library/re.html\n",
    "https://en.wikipedia.org/wiki/Regular_expression\n",
    "https://www.w3schools.com/python/python_regex.asp"
   ]
  },
  {
   "cell_type": "code",
   "execution_count": 1,
   "id": "000a0727",
   "metadata": {},
   "outputs": [],
   "source": [
    "wiki = \"\"\"\n",
    "A regular expression (shortened as regex or regexp),[1] sometimes referred to as rational expression,[2][3] is a sequence of characters that specifies a match pattern in text. Usually such patterns are used by string-searching algorithms for \"find\" or \"find and replace\" operations on strings, or for input validation. Regular expression techniques are developed in theoretical computer science and formal language theory.\n",
    "\n",
    "The concept of regular expressions began in the 1950s, when the American mathematician Stephen Cole Kleene formalized the concept of a regular language. They came into common use with Unix text-processing utilities. Different syntaxes for writing regular expressions have existed since the 1980s, one being the POSIX standard and another, widely used, being the Perl syntax.\n",
    "\n",
    "Regular expressions are used in search engines, in search and replace dialogs of word processors and text editors, in text processing utilities such as sed and AWK, and in lexical analysis. Regular expressions are supported in many programming languages.\n",
    "\"\"\""
   ]
  },
  {
   "cell_type": "code",
   "execution_count": 2,
   "id": "5f9041d6",
   "metadata": {},
   "outputs": [],
   "source": [
    "import re"
   ]
  },
  {
   "cell_type": "code",
   "execution_count": 16,
   "id": "13a88d21",
   "metadata": {},
   "outputs": [
    {
     "data": {
      "text/plain": [
       "['A',\n",
       " 'regular',\n",
       " 'expression',\n",
       " 'shortened',\n",
       " 'as',\n",
       " 'regex',\n",
       " 'or',\n",
       " 'regexp',\n",
       " '1',\n",
       " 'sometimes',\n",
       " 'referred',\n",
       " 'to',\n",
       " 'as',\n",
       " 'rational',\n",
       " 'expression',\n",
       " '2',\n",
       " '3',\n",
       " 'is',\n",
       " 'a',\n",
       " 'sequence',\n",
       " 'of',\n",
       " 'characters',\n",
       " 'that',\n",
       " 'specifies',\n",
       " 'a',\n",
       " 'match',\n",
       " 'pattern',\n",
       " 'in',\n",
       " 'text',\n",
       " 'Usually',\n",
       " 'such',\n",
       " 'patterns',\n",
       " 'are',\n",
       " 'used',\n",
       " 'by',\n",
       " 'string',\n",
       " 'searching',\n",
       " 'algorithms',\n",
       " 'for',\n",
       " 'find',\n",
       " 'or',\n",
       " 'find',\n",
       " 'and',\n",
       " 'replace',\n",
       " 'operations',\n",
       " 'on',\n",
       " 'strings',\n",
       " 'or',\n",
       " 'for',\n",
       " 'input',\n",
       " 'validation',\n",
       " 'Regular',\n",
       " 'expression',\n",
       " 'techniques',\n",
       " 'are',\n",
       " 'developed',\n",
       " 'in',\n",
       " 'theoretical',\n",
       " 'computer',\n",
       " 'science',\n",
       " 'and',\n",
       " 'formal',\n",
       " 'language',\n",
       " 'theory',\n",
       " 'The',\n",
       " 'concept',\n",
       " 'of',\n",
       " 'regular',\n",
       " 'expressions',\n",
       " 'began',\n",
       " 'in',\n",
       " 'the',\n",
       " '1950s',\n",
       " 'when',\n",
       " 'the',\n",
       " 'American',\n",
       " 'mathematician',\n",
       " 'Stephen',\n",
       " 'Cole',\n",
       " 'Kleene',\n",
       " 'formalized',\n",
       " 'the',\n",
       " 'concept',\n",
       " 'of',\n",
       " 'a',\n",
       " 'regular',\n",
       " 'language',\n",
       " 'They',\n",
       " 'came',\n",
       " 'into',\n",
       " 'common',\n",
       " 'use',\n",
       " 'with',\n",
       " 'Unix',\n",
       " 'text',\n",
       " 'processing',\n",
       " 'utilities',\n",
       " 'Different',\n",
       " 'syntaxes',\n",
       " 'for',\n",
       " 'writing',\n",
       " 'regular',\n",
       " 'expressions',\n",
       " 'have',\n",
       " 'existed',\n",
       " 'since',\n",
       " 'the',\n",
       " '1980s',\n",
       " 'one',\n",
       " 'being',\n",
       " 'the',\n",
       " 'POSIX',\n",
       " 'standard',\n",
       " 'and',\n",
       " 'another',\n",
       " 'widely',\n",
       " 'used',\n",
       " 'being',\n",
       " 'the',\n",
       " 'Perl',\n",
       " 'syntax',\n",
       " 'Regular',\n",
       " 'expressions',\n",
       " 'are',\n",
       " 'used',\n",
       " 'in',\n",
       " 'search',\n",
       " 'engines',\n",
       " 'in',\n",
       " 'search',\n",
       " 'and',\n",
       " 'replace',\n",
       " 'dialogs',\n",
       " 'of',\n",
       " 'word',\n",
       " 'processors',\n",
       " 'and',\n",
       " 'text',\n",
       " 'editors',\n",
       " 'in',\n",
       " 'text',\n",
       " 'processing',\n",
       " 'utilities',\n",
       " 'such',\n",
       " 'as',\n",
       " 'sed',\n",
       " 'and',\n",
       " 'AWK',\n",
       " 'and',\n",
       " 'in',\n",
       " 'lexical',\n",
       " 'analysis',\n",
       " 'Regular',\n",
       " 'expressions',\n",
       " 'are',\n",
       " 'supported',\n",
       " 'in',\n",
       " 'many',\n",
       " 'programming',\n",
       " 'languages']"
      ]
     },
     "execution_count": 16,
     "metadata": {},
     "output_type": "execute_result"
    }
   ],
   "source": [
    "re.findall(r'\\w+', wiki) # Finds all words"
   ]
  },
  {
   "cell_type": "code",
   "execution_count": 144,
   "id": "5cb9cbda",
   "metadata": {},
   "outputs": [
    {
     "data": {
      "text/plain": [
       "[]"
      ]
     },
     "execution_count": 144,
     "metadata": {},
     "output_type": "execute_result"
    }
   ],
   "source": [
    "re.findall(r'\\br\\w+', wiki) # Finds all words starting with r"
   ]
  },
  {
   "cell_type": "code",
   "execution_count": 17,
   "id": "f8f0c6c7",
   "metadata": {},
   "outputs": [
    {
     "data": {
      "text/plain": [
       "<re.Match object; span=(1, 2), match='A'>"
      ]
     },
     "execution_count": 17,
     "metadata": {},
     "output_type": "execute_result"
    }
   ],
   "source": [
    "re.search(r'\\w+', wiki) # Finds the first occurrence matching the pattern "
   ]
  },
  {
   "cell_type": "code",
   "execution_count": 145,
   "id": "ffa1901a",
   "metadata": {},
   "outputs": [
    {
     "data": {
      "text/plain": [
       "['\\nA regular expression (shortened as regex or regexp),[1] sometimes referred to as rational ',\n",
       " '[2][3] is a sequence of characters that specifies a match pattern in text. Usually such patterns are used by string-searching algorithms for \"find\" or \"find and replace\" operations on ',\n",
       " ' or for input validation. Regular expression techniques are developed in theoretical computer science and formal language theory.\\n\\nThe concept of regular expressions began in the ',\n",
       " ' when the American mathematician Stephen Cole Kleene formalized the concept of a regular language. They came into common use with Unix text-processing utilities. Different syntaxes for writing regular expressions have existed since the ',\n",
       " ' one being the POSIX standard and ',\n",
       " ' widely ',\n",
       " ' being the Perl syntax.\\n\\nRegular expressions are used in search ',\n",
       " ' in search and replace dialogs of word processors and text ',\n",
       " ' in text processing utilities such as sed and ',\n",
       " ' and in lexical analysis. Regular expressions are supported in many programming languages.\\n']"
      ]
     },
     "execution_count": 145,
     "metadata": {},
     "output_type": "execute_result"
    }
   ],
   "source": [
    "re.split(r'\\s', wiki) # splits on whitespace\n",
    "re.split(r'\\w+,', wiki) # splits on words before commas"
   ]
  },
  {
   "cell_type": "code",
   "execution_count": 50,
   "id": "0af11011",
   "metadata": {},
   "outputs": [],
   "source": [
    "emails = \"\"\"\n",
    "\n",
    "email addresses are: oliv.ier@example.com. -- yaro@example.gov peter@example.ca \n",
    "drew@example.co.uk-,\n",
    "marco@example.org\n",
    "\n",
    "\n",
    "\"\"\""
   ]
  },
  {
   "cell_type": "code",
   "execution_count": 51,
   "id": "a905aa67",
   "metadata": {},
   "outputs": [
    {
     "data": {
      "text/plain": [
       "['oliv.ier@example.com',\n",
       " 'yaro@example.gov',\n",
       " 'peter@example.ca',\n",
       " 'drew@example.co.uk',\n",
       " 'marco@example.org']"
      ]
     },
     "execution_count": 51,
     "metadata": {},
     "output_type": "execute_result"
    }
   ],
   "source": [
    "# Super common use-case: extracting email addresses from a string\n",
    "re.findall(r'\\b[A-Za-z0-9._%+-]+@[A-Za-z0-9.-]+\\.[A-Z|a-z]{2,7}\\b', emails)"
   ]
  },
  {
   "cell_type": "markdown",
   "id": "bc202838",
   "metadata": {},
   "source": [
    "### Lambda review"
   ]
  },
  {
   "cell_type": "code",
   "execution_count": 58,
   "id": "1c1a6d66",
   "metadata": {},
   "outputs": [],
   "source": [
    "# plus_one = lambda variable: (if variable == 5: \n",
    "#                              return 'yes! it\\'s 5')\n",
    "\n",
    "plus_one_or_five = lambda variable: \"yes! it's 5\" if variable == 5 else variable + 1"
   ]
  },
  {
   "cell_type": "code",
   "execution_count": 59,
   "id": "2dcbeec9",
   "metadata": {},
   "outputs": [
    {
     "data": {
      "text/plain": [
       "\"yes! it's 5\""
      ]
     },
     "execution_count": 59,
     "metadata": {},
     "output_type": "execute_result"
    }
   ],
   "source": [
    "plus_one_or_five(5)"
   ]
  },
  {
   "cell_type": "code",
   "execution_count": 146,
   "id": "4b5ba5c7",
   "metadata": {},
   "outputs": [
    {
     "data": {
      "text/plain": [
       "7"
      ]
     },
     "execution_count": 146,
     "metadata": {},
     "output_type": "execute_result"
    }
   ],
   "source": [
    "plus_one_or_five(6)"
   ]
  },
  {
   "cell_type": "markdown",
   "id": "2b389835",
   "metadata": {},
   "source": [
    "### Data cleaning\n",
    "\n",
    "Links:\n",
    "https://pandas.pydata.org/docs/reference/api/pandas.Series.str.extract.html\n",
    "https://pandas.pydata.org/docs/reference/api/pandas.DataFrame.fillna.html\n",
    "https://www.kaggle.com/datasets/borapajo/food-choices?select=food_coded.csv"
   ]
  },
  {
   "cell_type": "code",
   "execution_count": 102,
   "id": "2f165b3c",
   "metadata": {},
   "outputs": [],
   "source": [
    "import pandas as pd"
   ]
  },
  {
   "cell_type": "code",
   "execution_count": 103,
   "id": "e5bac6f1",
   "metadata": {},
   "outputs": [],
   "source": [
    "food = pd.read_csv('food_coded.csv')"
   ]
  },
  {
   "cell_type": "code",
   "execution_count": 104,
   "id": "415be5bd",
   "metadata": {},
   "outputs": [
    {
     "name": "stdout",
     "output_type": "stream",
     "text": [
      "<class 'pandas.core.frame.DataFrame'>\n",
      "RangeIndex: 125 entries, 0 to 124\n",
      "Data columns (total 61 columns):\n",
      " #   Column                        Non-Null Count  Dtype  \n",
      "---  ------                        --------------  -----  \n",
      " 0   GPA                           123 non-null    object \n",
      " 1   Gender                        125 non-null    int64  \n",
      " 2   breakfast                     125 non-null    int64  \n",
      " 3   calories_chicken              125 non-null    int64  \n",
      " 4   calories_day                  106 non-null    float64\n",
      " 5   calories_scone                124 non-null    float64\n",
      " 6   coffee                        125 non-null    int64  \n",
      " 7   comfort_food                  124 non-null    object \n",
      " 8   comfort_food_reasons          124 non-null    object \n",
      " 9   comfort_food_reasons_coded    106 non-null    float64\n",
      " 10  cook                          122 non-null    float64\n",
      " 11  comfort_food_reasons_coded.1  125 non-null    int64  \n",
      " 12  cuisine                       108 non-null    float64\n",
      " 13  diet_current                  124 non-null    object \n",
      " 14  diet_current_coded            125 non-null    int64  \n",
      " 15  drink                         123 non-null    float64\n",
      " 16  eating_changes                122 non-null    object \n",
      " 17  eating_changes_coded          125 non-null    int64  \n",
      " 18  eating_changes_coded1         125 non-null    int64  \n",
      " 19  eating_out                    125 non-null    int64  \n",
      " 20  employment                    116 non-null    float64\n",
      " 21  ethnic_food                   125 non-null    int64  \n",
      " 22  exercise                      112 non-null    float64\n",
      " 23  father_education              124 non-null    float64\n",
      " 24  father_profession             122 non-null    object \n",
      " 25  fav_cuisine                   123 non-null    object \n",
      " 26  fav_cuisine_coded             125 non-null    int64  \n",
      " 27  fav_food                      123 non-null    float64\n",
      " 28  food_childhood                124 non-null    object \n",
      " 29  fries                         125 non-null    int64  \n",
      " 30  fruit_day                     125 non-null    int64  \n",
      " 31  grade_level                   125 non-null    int64  \n",
      " 32  greek_food                    125 non-null    int64  \n",
      " 33  healthy_feeling               125 non-null    int64  \n",
      " 34  healthy_meal                  124 non-null    object \n",
      " 35  ideal_diet                    124 non-null    object \n",
      " 36  ideal_diet_coded              125 non-null    int64  \n",
      " 37  income                        124 non-null    float64\n",
      " 38  indian_food                   125 non-null    int64  \n",
      " 39  italian_food                  125 non-null    int64  \n",
      " 40  life_rewarding                124 non-null    float64\n",
      " 41  marital_status                124 non-null    float64\n",
      " 42  meals_dinner_friend           122 non-null    object \n",
      " 43  mother_education              122 non-null    float64\n",
      " 44  mother_profession             123 non-null    object \n",
      " 45  nutritional_check             125 non-null    int64  \n",
      " 46  on_off_campus                 124 non-null    float64\n",
      " 47  parents_cook                  125 non-null    int64  \n",
      " 48  pay_meal_out                  125 non-null    int64  \n",
      " 49  persian_food                  124 non-null    float64\n",
      " 50  self_perception_weight        124 non-null    float64\n",
      " 51  soup                          124 non-null    float64\n",
      " 52  sports                        123 non-null    float64\n",
      " 53  thai_food                     125 non-null    int64  \n",
      " 54  tortilla_calories             124 non-null    float64\n",
      " 55  turkey_calories               125 non-null    int64  \n",
      " 56  type_sports                   104 non-null    object \n",
      " 57  veggies_day                   125 non-null    int64  \n",
      " 58  vitamins                      125 non-null    int64  \n",
      " 59  waffle_calories               125 non-null    int64  \n",
      " 60  weight                        123 non-null    object \n",
      "dtypes: float64(20), int64(27), object(14)\n",
      "memory usage: 59.7+ KB\n"
     ]
    }
   ],
   "source": [
    "food.info()"
   ]
  },
  {
   "cell_type": "code",
   "execution_count": 105,
   "id": "ced4461d",
   "metadata": {},
   "outputs": [
    {
     "data": {
      "text/plain": [
       "0      2.4\n",
       "1    3.654\n",
       "2      3.3\n",
       "3      3.2\n",
       "4      3.5\n",
       "5     2.25\n",
       "6      3.8\n",
       "7      3.3\n",
       "8      3.3\n",
       "9      3.3\n",
       "Name: GPA, dtype: object"
      ]
     },
     "execution_count": 105,
     "metadata": {},
     "output_type": "execute_result"
    }
   ],
   "source": [
    "food.GPA[:10]"
   ]
  },
  {
   "cell_type": "code",
   "execution_count": 106,
   "id": "8b25507c",
   "metadata": {},
   "outputs": [
    {
     "data": {
      "text/plain": [
       "3.5           13\n",
       "3             11\n",
       "3.2           10\n",
       "3.7           10\n",
       "3.3            9\n",
       "3.4            9\n",
       "3.6            7\n",
       "3.9            7\n",
       "3.8            6\n",
       "2.8            5\n",
       "4              4\n",
       "3.1            3\n",
       "2.9            2\n",
       "3.83           2\n",
       "2.6            2\n",
       "2.4            1\n",
       "3.79 bitch     1\n",
       "3.73           1\n",
       "2.71           1\n",
       "3.92           1\n",
       "3.68           1\n",
       "3.75           1\n",
       "Unknown        1\n",
       "3.77           1\n",
       "3.63           1\n",
       "3.67           1\n",
       "3.89           1\n",
       "Personal       1\n",
       "3.35           1\n",
       "3.292          1\n",
       "3.605          1\n",
       "3.654          1\n",
       "3.65           1\n",
       "3.87           1\n",
       "2.2            1\n",
       "3.904          1\n",
       "2.25           1\n",
       "3.882          1\n",
       "Name: GPA, dtype: int64"
      ]
     },
     "execution_count": 106,
     "metadata": {},
     "output_type": "execute_result"
    }
   ],
   "source": [
    "food.GPA.value_counts()"
   ]
  },
  {
   "cell_type": "code",
   "execution_count": 107,
   "id": "80e16bbc",
   "metadata": {},
   "outputs": [],
   "source": [
    "food['GPA_clean'] = food.GPA.str.extract(r'(\\d+.\\d+)').astype(float)"
   ]
  },
  {
   "cell_type": "code",
   "execution_count": 108,
   "id": "b67ab605",
   "metadata": {},
   "outputs": [
    {
     "name": "stderr",
     "output_type": "stream",
     "text": [
      "/var/folders/hw/7q05z4zd6h99k8hlq1ws2wtr0000gq/T/ipykernel_13503/1805747499.py:1: DeprecationWarning: elementwise comparison failed; this will raise an error in the future.\n",
      "  food.GPA.value_counts().values == food.GPA_clean.value_counts().values\n"
     ]
    },
    {
     "data": {
      "text/plain": [
       "False"
      ]
     },
     "execution_count": 108,
     "metadata": {},
     "output_type": "execute_result"
    }
   ],
   "source": [
    "food.GPA.value_counts().values == food.GPA_clean.value_counts().values"
   ]
  },
  {
   "cell_type": "code",
   "execution_count": 109,
   "id": "8ce96120",
   "metadata": {},
   "outputs": [
    {
     "data": {
      "text/plain": [
       "array([13, 11, 10, 10,  9,  9,  7,  7,  6,  5,  4,  3,  2,  2,  2,  1,  1,\n",
       "        1,  1,  1,  1,  1,  1,  1,  1,  1,  1,  1,  1,  1,  1,  1,  1,  1,\n",
       "        1,  1,  1,  1])"
      ]
     },
     "execution_count": 109,
     "metadata": {},
     "output_type": "execute_result"
    }
   ],
   "source": [
    "food.GPA.value_counts().values"
   ]
  },
  {
   "cell_type": "code",
   "execution_count": 110,
   "id": "a81a54f5",
   "metadata": {},
   "outputs": [
    {
     "data": {
      "text/plain": [
       "3.500    13\n",
       "3.200    10\n",
       "3.700    10\n",
       "3.400     9\n",
       "3.300     9\n",
       "3.900     7\n",
       "3.600     7\n",
       "3.800     6\n",
       "2.800     5\n",
       "3.100     3\n",
       "2.600     2\n",
       "2.900     2\n",
       "3.830     2\n",
       "3.790     1\n",
       "2.710     1\n",
       "3.730     1\n",
       "2.400     1\n",
       "3.920     1\n",
       "3.680     1\n",
       "3.750     1\n",
       "3.770     1\n",
       "3.630     1\n",
       "3.670     1\n",
       "3.890     1\n",
       "3.350     1\n",
       "3.292     1\n",
       "3.605     1\n",
       "3.654     1\n",
       "3.650     1\n",
       "3.870     1\n",
       "2.200     1\n",
       "3.904     1\n",
       "2.250     1\n",
       "3.882     1\n",
       "Name: GPA_clean, dtype: int64"
      ]
     },
     "execution_count": 110,
     "metadata": {},
     "output_type": "execute_result"
    }
   ],
   "source": [
    "food.GPA_clean.value_counts()"
   ]
  },
  {
   "cell_type": "code",
   "execution_count": 111,
   "id": "df6c1517",
   "metadata": {},
   "outputs": [
    {
     "data": {
      "text/plain": [
       "Index(['GPA', 'Gender', 'breakfast', 'calories_chicken', 'calories_day',\n",
       "       'calories_scone', 'coffee', 'comfort_food', 'comfort_food_reasons',\n",
       "       'comfort_food_reasons_coded', 'cook', 'comfort_food_reasons_coded.1',\n",
       "       'cuisine', 'diet_current', 'diet_current_coded', 'drink',\n",
       "       'eating_changes', 'eating_changes_coded', 'eating_changes_coded1',\n",
       "       'eating_out', 'employment', 'ethnic_food', 'exercise',\n",
       "       'father_education', 'father_profession', 'fav_cuisine',\n",
       "       'fav_cuisine_coded', 'fav_food', 'food_childhood', 'fries', 'fruit_day',\n",
       "       'grade_level', 'greek_food', 'healthy_feeling', 'healthy_meal',\n",
       "       'ideal_diet', 'ideal_diet_coded', 'income', 'indian_food',\n",
       "       'italian_food', 'life_rewarding', 'marital_status',\n",
       "       'meals_dinner_friend', 'mother_education', 'mother_profession',\n",
       "       'nutritional_check', 'on_off_campus', 'parents_cook', 'pay_meal_out',\n",
       "       'persian_food', 'self_perception_weight', 'soup', 'sports', 'thai_food',\n",
       "       'tortilla_calories', 'turkey_calories', 'type_sports', 'veggies_day',\n",
       "       'vitamins', 'waffle_calories', 'weight', 'GPA_clean'],\n",
       "      dtype='object')"
      ]
     },
     "execution_count": 111,
     "metadata": {},
     "output_type": "execute_result"
    }
   ],
   "source": [
    "food.columns"
   ]
  },
  {
   "cell_type": "code",
   "execution_count": 112,
   "id": "71f853fd",
   "metadata": {},
   "outputs": [],
   "source": [
    "to_drop = ['calories_day', 'comfort_food_reasons_coded', 'cuisine', 'type_sports', 'GPA']"
   ]
  },
  {
   "cell_type": "code",
   "execution_count": 113,
   "id": "1d3bc67e",
   "metadata": {},
   "outputs": [],
   "source": [
    "food = food.drop(columns=to_drop)"
   ]
  },
  {
   "cell_type": "code",
   "execution_count": 119,
   "id": "3c8ff929",
   "metadata": {},
   "outputs": [
    {
     "data": {
      "text/plain": [
       "Gender                           0\n",
       "breakfast                        0\n",
       "calories_chicken                 0\n",
       "calories_scone                   1\n",
       "coffee                           0\n",
       "comfort_food                     1\n",
       "comfort_food_reasons             1\n",
       "cook                             3\n",
       "comfort_food_reasons_coded.1     0\n",
       "diet_current                     1\n",
       "diet_current_coded               0\n",
       "drink                            2\n",
       "eating_changes                   3\n",
       "eating_changes_coded             0\n",
       "eating_changes_coded1            0\n",
       "eating_out                       0\n",
       "employment                       9\n",
       "ethnic_food                      0\n",
       "exercise                        13\n",
       "father_education                 1\n",
       "father_profession                3\n",
       "fav_cuisine                      2\n",
       "fav_cuisine_coded                0\n",
       "fav_food                         2\n",
       "food_childhood                   1\n",
       "fries                            0\n",
       "fruit_day                        0\n",
       "grade_level                      0\n",
       "greek_food                       0\n",
       "healthy_feeling                  0\n",
       "healthy_meal                     1\n",
       "ideal_diet                       1\n",
       "ideal_diet_coded                 0\n",
       "income                           1\n",
       "indian_food                      0\n",
       "italian_food                     0\n",
       "life_rewarding                   1\n",
       "marital_status                   1\n",
       "meals_dinner_friend              3\n",
       "mother_education                 3\n",
       "mother_profession                2\n",
       "nutritional_check                0\n",
       "on_off_campus                    1\n",
       "parents_cook                     0\n",
       "pay_meal_out                     0\n",
       "persian_food                     1\n",
       "self_perception_weight           1\n",
       "soup                             1\n",
       "sports                           2\n",
       "thai_food                        0\n",
       "tortilla_calories                1\n",
       "turkey_calories                  0\n",
       "veggies_day                      0\n",
       "vitamins                         0\n",
       "waffle_calories                  0\n",
       "weight                           2\n",
       "GPA_clean                       19\n",
       "dtype: int64"
      ]
     },
     "execution_count": 119,
     "metadata": {},
     "output_type": "execute_result"
    }
   ],
   "source": [
    "food.isna().sum()"
   ]
  },
  {
   "cell_type": "code",
   "execution_count": 123,
   "id": "aef325ae",
   "metadata": {},
   "outputs": [],
   "source": [
    "import numpy as np"
   ]
  },
  {
   "cell_type": "code",
   "execution_count": 132,
   "id": "47abbd9b",
   "metadata": {},
   "outputs": [],
   "source": [
    "food_gpa_mean = food.GPA_clean.mean()"
   ]
  },
  {
   "cell_type": "code",
   "execution_count": 134,
   "id": "85df9a4b",
   "metadata": {},
   "outputs": [
    {
     "data": {
      "text/plain": [
       "3.4401603773584903"
      ]
     },
     "execution_count": 134,
     "metadata": {},
     "output_type": "execute_result"
    }
   ],
   "source": [
    "food_gpa_mean"
   ]
  },
  {
   "cell_type": "code",
   "execution_count": 152,
   "id": "53b6d4df",
   "metadata": {},
   "outputs": [
    {
     "data": {
      "text/plain": [
       "0      2.40000\n",
       "1      3.65400\n",
       "2      3.30000\n",
       "3      3.20000\n",
       "4      3.50000\n",
       "        ...   \n",
       "120    3.50000\n",
       "121    3.44016\n",
       "122    3.88200\n",
       "123    3.44016\n",
       "124    3.90000\n",
       "Name: GPA_clean, Length: 125, dtype: float64"
      ]
     },
     "execution_count": 152,
     "metadata": {},
     "output_type": "execute_result"
    }
   ],
   "source": [
    "food.GPA_clean.apply(\n",
    "    lambda gpa: food_gpa_mean if not isinstance(gpa, float) else gpa\n",
    ") # does not work \n",
    "\n",
    "food.GPA_clean.apply(\n",
    "    lambda gpa: food_gpa_mean if str(gpa) == 'nan' else gpa\n",
    ") # does work, but is not best practice "
   ]
  },
  {
   "cell_type": "code",
   "execution_count": 127,
   "id": "e0b76b4d",
   "metadata": {},
   "outputs": [
    {
     "data": {
      "text/plain": [
       "False"
      ]
     },
     "execution_count": 127,
     "metadata": {},
     "output_type": "execute_result"
    }
   ],
   "source": [
    "np.nan == np.nan # nan does not equate with itself "
   ]
  },
  {
   "cell_type": "code",
   "execution_count": 136,
   "id": "d7e387fe",
   "metadata": {},
   "outputs": [],
   "source": [
    "# Rather than apply, use the built-in pandas method\n",
    "food.GPA_clean = food.GPA_clean.fillna(food_gpa_mean)"
   ]
  }
 ],
 "metadata": {
  "kernelspec": {
   "display_name": "Python 3 (ipykernel)",
   "language": "python",
   "name": "python3"
  },
  "language_info": {
   "codemirror_mode": {
    "name": "ipython",
    "version": 3
   },
   "file_extension": ".py",
   "mimetype": "text/x-python",
   "name": "python",
   "nbconvert_exporter": "python",
   "pygments_lexer": "ipython3",
   "version": "3.9.15"
  }
 },
 "nbformat": 4,
 "nbformat_minor": 5
}
