{
 "cells": [
  {
   "cell_type": "markdown",
   "id": "2e87e61a",
   "metadata": {},
   "source": [
    "## markdown cell\n",
    "---"
   ]
  },
  {
   "cell_type": "markdown",
   "id": "d7e563eb",
   "metadata": {},
   "source": [
    "scope: for a given variable or function, where in the program can it be accessed? "
   ]
  },
  {
   "cell_type": "code",
   "execution_count": 19,
   "id": "cb9e8429",
   "metadata": {},
   "outputs": [],
   "source": [
    "cat = 45\n",
    "\n",
    "def cat_plus_one(feline):\n",
    "    print('the value of \"feline\" is', feline)\n",
    "    return feline + 1\n",
    "\n"
   ]
  },
  {
   "cell_type": "code",
   "execution_count": 14,
   "id": "e2466388",
   "metadata": {},
   "outputs": [
    {
     "ename": "NameError",
     "evalue": "name 'feline' is not defined",
     "output_type": "error",
     "traceback": [
      "\u001b[0;31m---------------------------------------------------------------------------\u001b[0m",
      "\u001b[0;31mNameError\u001b[0m                                 Traceback (most recent call last)",
      "Cell \u001b[0;32mIn[14], line 1\u001b[0m\n\u001b[0;32m----> 1\u001b[0m \u001b[43mfeline\u001b[49m\n",
      "\u001b[0;31mNameError\u001b[0m: name 'feline' is not defined"
     ]
    }
   ],
   "source": [
    "feline"
   ]
  },
  {
   "cell_type": "code",
   "execution_count": 16,
   "id": "edbe653e",
   "metadata": {},
   "outputs": [
    {
     "data": {
      "text/plain": [
       "<function __main__.cat_plus_one(feline)>"
      ]
     },
     "execution_count": 16,
     "metadata": {},
     "output_type": "execute_result"
    }
   ],
   "source": [
    "cat_plus_one # just looking at the function "
   ]
  },
  {
   "cell_type": "code",
   "execution_count": 17,
   "id": "9f14eac3",
   "metadata": {},
   "outputs": [
    {
     "ename": "TypeError",
     "evalue": "cat_plus_one() missing 1 required positional argument: 'feline'",
     "output_type": "error",
     "traceback": [
      "\u001b[0;31m---------------------------------------------------------------------------\u001b[0m",
      "\u001b[0;31mTypeError\u001b[0m                                 Traceback (most recent call last)",
      "Cell \u001b[0;32mIn[17], line 1\u001b[0m\n\u001b[0;32m----> 1\u001b[0m \u001b[43mcat_plus_one\u001b[49m\u001b[43m(\u001b[49m\u001b[43m)\u001b[49m\n",
      "\u001b[0;31mTypeError\u001b[0m: cat_plus_one() missing 1 required positional argument: 'feline'"
     ]
    }
   ],
   "source": [
    "cat_plus_one()"
   ]
  },
  {
   "cell_type": "code",
   "execution_count": 20,
   "id": "2dcccfdc",
   "metadata": {},
   "outputs": [
    {
     "name": "stdout",
     "output_type": "stream",
     "text": [
      "the value of \"feline\" is 45\n"
     ]
    },
    {
     "data": {
      "text/plain": [
       "46"
      ]
     },
     "execution_count": 20,
     "metadata": {},
     "output_type": "execute_result"
    }
   ],
   "source": [
    "cat_plus_one(cat)"
   ]
  },
  {
   "cell_type": "code",
   "execution_count": 25,
   "id": "cfb2db4f",
   "metadata": {},
   "outputs": [],
   "source": [
    "def cat_plus_one():\n",
    "    print('the value of \"cat\" is', cat)\n",
    "    return cat + 1"
   ]
  },
  {
   "cell_type": "code",
   "execution_count": 23,
   "id": "fb2a0e27",
   "metadata": {},
   "outputs": [
    {
     "ename": "TypeError",
     "evalue": "cat_plus_one() takes 0 positional arguments but 1 was given",
     "output_type": "error",
     "traceback": [
      "\u001b[0;31m---------------------------------------------------------------------------\u001b[0m",
      "\u001b[0;31mTypeError\u001b[0m                                 Traceback (most recent call last)",
      "Cell \u001b[0;32mIn[23], line 1\u001b[0m\n\u001b[0;32m----> 1\u001b[0m \u001b[43mcat_plus_one\u001b[49m\u001b[43m(\u001b[49m\u001b[43mcat\u001b[49m\u001b[43m)\u001b[49m\n",
      "\u001b[0;31mTypeError\u001b[0m: cat_plus_one() takes 0 positional arguments but 1 was given"
     ]
    }
   ],
   "source": [
    "cat_plus_one(cat)"
   ]
  },
  {
   "cell_type": "code",
   "execution_count": 26,
   "id": "27d25451",
   "metadata": {},
   "outputs": [
    {
     "name": "stdout",
     "output_type": "stream",
     "text": [
      "the value of \"cat\" is 45\n"
     ]
    },
    {
     "data": {
      "text/plain": [
       "46"
      ]
     },
     "execution_count": 26,
     "metadata": {},
     "output_type": "execute_result"
    }
   ],
   "source": [
    "cat_plus_one()"
   ]
  },
  {
   "cell_type": "code",
   "execution_count": 27,
   "id": "50284a8f",
   "metadata": {},
   "outputs": [],
   "source": [
    "def cat_plus_one():\n",
    "    cat = 24\n",
    "    print('the value of \"cat\" is', cat)\n",
    "    return cat + 1"
   ]
  },
  {
   "cell_type": "code",
   "execution_count": 28,
   "id": "5b92b6b1",
   "metadata": {},
   "outputs": [
    {
     "name": "stdout",
     "output_type": "stream",
     "text": [
      "the value of \"cat\" is 24\n"
     ]
    },
    {
     "data": {
      "text/plain": [
       "25"
      ]
     },
     "execution_count": 28,
     "metadata": {},
     "output_type": "execute_result"
    }
   ],
   "source": [
    "cat_plus_one()"
   ]
  },
  {
   "cell_type": "code",
   "execution_count": 29,
   "id": "733dd36a",
   "metadata": {},
   "outputs": [
    {
     "data": {
      "text/plain": [
       "45"
      ]
     },
     "execution_count": 29,
     "metadata": {},
     "output_type": "execute_result"
    }
   ],
   "source": [
    "cat "
   ]
  },
  {
   "cell_type": "code",
   "execution_count": 32,
   "id": "27d11233",
   "metadata": {},
   "outputs": [],
   "source": [
    "def cat_plus_one():\n",
    "    global cat \n",
    "    print('the value of \"cat\" is', cat)\n",
    "    return cat + 1"
   ]
  },
  {
   "cell_type": "code",
   "execution_count": 46,
   "id": "c7dc8dc8",
   "metadata": {},
   "outputs": [],
   "source": [
    "cat = ['dog', 'fish']"
   ]
  },
  {
   "cell_type": "code",
   "execution_count": 47,
   "id": "e96efbd6",
   "metadata": {},
   "outputs": [],
   "source": [
    "def cat_plus_armadillo():\n",
    "    cat.append('armadillo')\n",
    "    print('the value of \"cat\" is', cat)\n",
    "    return cat"
   ]
  },
  {
   "cell_type": "code",
   "execution_count": 48,
   "id": "d29e8e97",
   "metadata": {},
   "outputs": [
    {
     "name": "stdout",
     "output_type": "stream",
     "text": [
      "the value of \"cat\" is ['dog', 'fish', 'armadillo']\n"
     ]
    },
    {
     "data": {
      "text/plain": [
       "['dog', 'fish', 'armadillo']"
      ]
     },
     "execution_count": 48,
     "metadata": {},
     "output_type": "execute_result"
    }
   ],
   "source": [
    "cat_plus_armadillo()"
   ]
  },
  {
   "cell_type": "code",
   "execution_count": 68,
   "id": "19e20ea7",
   "metadata": {},
   "outputs": [],
   "source": [
    "cat = ['dog', 'fish']"
   ]
  },
  {
   "cell_type": "code",
   "execution_count": 69,
   "id": "45da89d3",
   "metadata": {},
   "outputs": [
    {
     "data": {
      "text/plain": [
       "False"
      ]
     },
     "execution_count": 69,
     "metadata": {},
     "output_type": "execute_result"
    }
   ],
   "source": [
    "def has_cats(cat):\n",
    "    does_it_have = 'cat' in cat\n",
    "    return does_it_have\n",
    "\n",
    "has_cats(cat)"
   ]
  },
  {
   "cell_type": "code",
   "execution_count": 74,
   "id": "01e459fc",
   "metadata": {},
   "outputs": [],
   "source": [
    "def cat_plus(temp_cat):\n",
    "    cat = temp_cat[:]\n",
    "    cat.append('cat')\n",
    "    return cat\n",
    "\n",
    "new_cat = cat_plus(cat)"
   ]
  },
  {
   "cell_type": "code",
   "execution_count": 71,
   "id": "73d5b889",
   "metadata": {},
   "outputs": [
    {
     "data": {
      "text/plain": [
       "False"
      ]
     },
     "execution_count": 71,
     "metadata": {},
     "output_type": "execute_result"
    }
   ],
   "source": [
    "has_cats(cat)"
   ]
  },
  {
   "cell_type": "code",
   "execution_count": 72,
   "id": "18ce5cc1",
   "metadata": {},
   "outputs": [
    {
     "data": {
      "text/plain": [
       "['dog', 'fish']"
      ]
     },
     "execution_count": 72,
     "metadata": {},
     "output_type": "execute_result"
    }
   ],
   "source": [
    "cat"
   ]
  },
  {
   "cell_type": "code",
   "execution_count": 75,
   "id": "91e41241",
   "metadata": {},
   "outputs": [
    {
     "data": {
      "text/plain": [
       "True"
      ]
     },
     "execution_count": 75,
     "metadata": {},
     "output_type": "execute_result"
    }
   ],
   "source": [
    "has_cats(new_cat)"
   ]
  },
  {
   "cell_type": "code",
   "execution_count": 76,
   "id": "61d06991",
   "metadata": {},
   "outputs": [
    {
     "data": {
      "text/plain": [
       "['dog', 'fish']"
      ]
     },
     "execution_count": 76,
     "metadata": {},
     "output_type": "execute_result"
    }
   ],
   "source": [
    "cat"
   ]
  },
  {
   "cell_type": "code",
   "execution_count": 78,
   "id": "202c3643",
   "metadata": {},
   "outputs": [
    {
     "data": {
      "text/plain": [
       "['dog',\n",
       " 'fish',\n",
       " 'dog',\n",
       " 'fish',\n",
       " 'dog',\n",
       " 'fish',\n",
       " 'dog',\n",
       " 'fish',\n",
       " 'dog',\n",
       " 'fish',\n",
       " 'dog',\n",
       " 'fish',\n",
       " 'dog',\n",
       " 'fish',\n",
       " 'dog',\n",
       " 'fish',\n",
       " 'dog',\n",
       " 'fish',\n",
       " 'dog',\n",
       " 'fish',\n",
       " 'cat']"
      ]
     },
     "execution_count": 78,
     "metadata": {},
     "output_type": "execute_result"
    }
   ],
   "source": [
    "MULTIPLIER = 10\n",
    "\n",
    "def cat_times(temp_cat):\n",
    "    cat = temp_cat * MULTIPLIER\n",
    "    cat.append('cat')\n",
    "    return cat\n",
    "\n",
    "more_cat = cat_times(cat)\n",
    "more_cat"
   ]
  },
  {
   "cell_type": "code",
   "execution_count": null,
   "id": "468d23c3",
   "metadata": {},
   "outputs": [],
   "source": []
  }
 ],
 "metadata": {
  "kernelspec": {
   "display_name": "Python 3 (ipykernel)",
   "language": "python",
   "name": "python3"
  },
  "language_info": {
   "codemirror_mode": {
    "name": "ipython",
    "version": 3
   },
   "file_extension": ".py",
   "mimetype": "text/x-python",
   "name": "python",
   "nbconvert_exporter": "python",
   "pygments_lexer": "ipython3",
   "version": "3.9.15"
  }
 },
 "nbformat": 4,
 "nbformat_minor": 5
}
