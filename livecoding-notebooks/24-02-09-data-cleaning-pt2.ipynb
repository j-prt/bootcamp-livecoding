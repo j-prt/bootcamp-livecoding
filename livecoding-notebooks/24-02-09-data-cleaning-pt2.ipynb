{
 "cells": [
  {
   "cell_type": "markdown",
   "id": "2b389835",
   "metadata": {},
   "source": [
    "### Data cleaning\n",
    "\n",
    "Links:\n",
    "https://pandas.pydata.org/docs/reference/api/pandas.Series.str.extract.html\n",
    "https://pandas.pydata.org/docs/reference/api/pandas.DataFrame.fillna.html\n",
    "https://www.kaggle.com/datasets/borapajo/food-choices?select=food_coded.csv"
   ]
  },
  {
   "cell_type": "code",
   "execution_count": 1,
   "id": "2f165b3c",
   "metadata": {},
   "outputs": [],
   "source": [
    "import pandas as pd\n",
    "\n",
    "food = pd.read_csv('food_coded.csv')\n",
    "\n",
    "food.info()\n",
    "\n",
    "food['GPA_clean'] = food.GPA.str.extract(r'(\\d+.\\d+)').astype(float)\n",
    "\n",
    "food_gpa_mean = food.GPA_clean.mean()\n",
    "\n",
    "# Rather than apply, use the built-in pandas method\n",
    "food.GPA_clean = food.GPA_clean.fillna(food_gpa_mean)\n",
    "\n",
    "food.columns\n",
    "\n",
    "# Create dummy columns for gender, employment, father_education\n",
    "genders = pd.get_dummies(food.Gender, prefix='gender')\n",
    "employment = pd.get_dummies(food.employment, prefix='employ')\n",
    "fe = pd.get_dummies(food.father_education, prefix='father')\n",
    "\n",
    "# Alternative - this returns the dataframe with the encoded columns\n",
    "# pd.get_dummies(food, columns=['Gender', 'employment', 'father_education'])\n",
    "\n",
    "# Isolate the subset of columns we want to preserve\n",
    "keep_cols = ['income', 'healthy_feeling', 'life_rewarding']\n",
    "food_final = food[keep_cols]\n",
    "\n",
    "food_final = pd.concat((food_final, genders, employment, fe), axis=1)\n",
    "\n",
    "food_final = food_final.dropna()\n",
    "\n",
    "food_final.info()\n",
    "\n",
    "food_final.to_csv('food_cleaned.csv', index=False)"
   ]
  }
 ],
 "metadata": {
  "kernelspec": {
   "display_name": "Python 3 (ipykernel)",
   "language": "python",
   "name": "python3"
  },
  "language_info": {
   "codemirror_mode": {
    "name": "ipython",
    "version": 3
   },
   "file_extension": ".py",
   "mimetype": "text/x-python",
   "name": "python",
   "nbconvert_exporter": "python",
   "pygments_lexer": "ipython3",
   "version": "3.9.15"
  }
 },
 "nbformat": 4,
 "nbformat_minor": 5
}
