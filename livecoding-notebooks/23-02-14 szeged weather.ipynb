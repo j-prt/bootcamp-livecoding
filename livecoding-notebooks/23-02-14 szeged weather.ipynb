{
 "cells": [
  {
   "cell_type": "code",
   "execution_count": 1,
   "id": "3e0e4a91",
   "metadata": {},
   "outputs": [],
   "source": [
    "import pandas as pd\n",
    "import numpy as np\n",
    "import matplotlib.pyplot as plt"
   ]
  },
  {
   "cell_type": "code",
   "execution_count": 2,
   "id": "4ca2b616",
   "metadata": {},
   "outputs": [],
   "source": [
    "df = pd.read_csv('../livecoding-data/weatherHistory.csv')"
   ]
  },
  {
   "cell_type": "code",
   "execution_count": 3,
   "id": "ef1bbaad",
   "metadata": {},
   "outputs": [
    {
     "data": {
      "text/html": [
       "<div>\n",
       "<style scoped>\n",
       "    .dataframe tbody tr th:only-of-type {\n",
       "        vertical-align: middle;\n",
       "    }\n",
       "\n",
       "    .dataframe tbody tr th {\n",
       "        vertical-align: top;\n",
       "    }\n",
       "\n",
       "    .dataframe thead th {\n",
       "        text-align: right;\n",
       "    }\n",
       "</style>\n",
       "<table border=\"1\" class=\"dataframe\">\n",
       "  <thead>\n",
       "    <tr style=\"text-align: right;\">\n",
       "      <th></th>\n",
       "      <th>Formatted Date</th>\n",
       "      <th>Summary</th>\n",
       "      <th>Precip Type</th>\n",
       "      <th>Temperature (C)</th>\n",
       "      <th>Apparent Temperature (C)</th>\n",
       "      <th>Humidity</th>\n",
       "      <th>Wind Speed (km/h)</th>\n",
       "      <th>Wind Bearing (degrees)</th>\n",
       "      <th>Visibility (km)</th>\n",
       "      <th>Loud Cover</th>\n",
       "      <th>Pressure (millibars)</th>\n",
       "      <th>Daily Summary</th>\n",
       "    </tr>\n",
       "  </thead>\n",
       "  <tbody>\n",
       "    <tr>\n",
       "      <th>1021</th>\n",
       "      <td>2006-08-20 13:00:00.000 +0200</td>\n",
       "      <td>Partly Cloudy</td>\n",
       "      <td>rain</td>\n",
       "      <td>32.588889</td>\n",
       "      <td>35.494444</td>\n",
       "      <td>0.50</td>\n",
       "      <td>11.3827</td>\n",
       "      <td>252.0</td>\n",
       "      <td>9.9820</td>\n",
       "      <td>0.0</td>\n",
       "      <td>1016.61</td>\n",
       "      <td>Partly cloudy starting in the afternoon.</td>\n",
       "    </tr>\n",
       "    <tr>\n",
       "      <th>34848</th>\n",
       "      <td>2009-09-28 00:00:00.000 +0200</td>\n",
       "      <td>Mostly Cloudy</td>\n",
       "      <td>rain</td>\n",
       "      <td>15.555556</td>\n",
       "      <td>15.555556</td>\n",
       "      <td>0.72</td>\n",
       "      <td>6.4400</td>\n",
       "      <td>140.0</td>\n",
       "      <td>16.1000</td>\n",
       "      <td>0.0</td>\n",
       "      <td>1025.30</td>\n",
       "      <td>Partly cloudy until evening.</td>\n",
       "    </tr>\n",
       "    <tr>\n",
       "      <th>24734</th>\n",
       "      <td>2008-11-04 15:00:00.000 +0100</td>\n",
       "      <td>Partly Cloudy</td>\n",
       "      <td>rain</td>\n",
       "      <td>18.933333</td>\n",
       "      <td>18.933333</td>\n",
       "      <td>0.65</td>\n",
       "      <td>10.8836</td>\n",
       "      <td>129.0</td>\n",
       "      <td>9.9820</td>\n",
       "      <td>0.0</td>\n",
       "      <td>1022.18</td>\n",
       "      <td>Partly cloudy starting in the morning.</td>\n",
       "    </tr>\n",
       "    <tr>\n",
       "      <th>71324</th>\n",
       "      <td>2014-08-26 20:00:00.000 +0200</td>\n",
       "      <td>Mostly Cloudy</td>\n",
       "      <td>rain</td>\n",
       "      <td>22.288889</td>\n",
       "      <td>22.288889</td>\n",
       "      <td>0.64</td>\n",
       "      <td>4.5724</td>\n",
       "      <td>262.0</td>\n",
       "      <td>15.5526</td>\n",
       "      <td>0.0</td>\n",
       "      <td>1009.63</td>\n",
       "      <td>Mostly cloudy throughout the day.</td>\n",
       "    </tr>\n",
       "    <tr>\n",
       "      <th>8950</th>\n",
       "      <td>2007-04-15 22:00:00.000 +0200</td>\n",
       "      <td>Partly Cloudy</td>\n",
       "      <td>rain</td>\n",
       "      <td>13.244444</td>\n",
       "      <td>13.244444</td>\n",
       "      <td>0.43</td>\n",
       "      <td>13.9587</td>\n",
       "      <td>21.0</td>\n",
       "      <td>15.8263</td>\n",
       "      <td>0.0</td>\n",
       "      <td>1022.39</td>\n",
       "      <td>Partly cloudy starting in the afternoon.</td>\n",
       "    </tr>\n",
       "    <tr>\n",
       "      <th>10041</th>\n",
       "      <td>2007-08-03 09:00:00.000 +0200</td>\n",
       "      <td>Clear</td>\n",
       "      <td>rain</td>\n",
       "      <td>23.866667</td>\n",
       "      <td>23.866667</td>\n",
       "      <td>0.42</td>\n",
       "      <td>12.1877</td>\n",
       "      <td>160.0</td>\n",
       "      <td>9.9820</td>\n",
       "      <td>0.0</td>\n",
       "      <td>1015.50</td>\n",
       "      <td>Mostly cloudy starting in the afternoon.</td>\n",
       "    </tr>\n",
       "    <tr>\n",
       "      <th>73802</th>\n",
       "      <td>2014-07-10 02:00:00.000 +0200</td>\n",
       "      <td>Partly Cloudy</td>\n",
       "      <td>rain</td>\n",
       "      <td>14.766667</td>\n",
       "      <td>14.766667</td>\n",
       "      <td>0.93</td>\n",
       "      <td>5.8121</td>\n",
       "      <td>301.0</td>\n",
       "      <td>11.9140</td>\n",
       "      <td>0.0</td>\n",
       "      <td>1007.44</td>\n",
       "      <td>Partly cloudy throughout the day.</td>\n",
       "    </tr>\n",
       "    <tr>\n",
       "      <th>14406</th>\n",
       "      <td>2007-03-03 07:00:00.000 +0100</td>\n",
       "      <td>Clear</td>\n",
       "      <td>rain</td>\n",
       "      <td>1.338889</td>\n",
       "      <td>-0.883333</td>\n",
       "      <td>0.93</td>\n",
       "      <td>7.1645</td>\n",
       "      <td>184.0</td>\n",
       "      <td>8.3398</td>\n",
       "      <td>0.0</td>\n",
       "      <td>1014.69</td>\n",
       "      <td>Mostly cloudy starting in the morning.</td>\n",
       "    </tr>\n",
       "    <tr>\n",
       "      <th>58398</th>\n",
       "      <td>2012-03-07 07:00:00.000 +0100</td>\n",
       "      <td>Clear</td>\n",
       "      <td>snow</td>\n",
       "      <td>-6.216667</td>\n",
       "      <td>-8.877778</td>\n",
       "      <td>0.75</td>\n",
       "      <td>5.4740</td>\n",
       "      <td>325.0</td>\n",
       "      <td>9.9820</td>\n",
       "      <td>0.0</td>\n",
       "      <td>1032.25</td>\n",
       "      <td>Partly cloudy starting in the afternoon contin...</td>\n",
       "    </tr>\n",
       "    <tr>\n",
       "      <th>90440</th>\n",
       "      <td>2016-02-04 11:00:00.000 +0100</td>\n",
       "      <td>Mostly Cloudy</td>\n",
       "      <td>rain</td>\n",
       "      <td>6.044444</td>\n",
       "      <td>1.833333</td>\n",
       "      <td>0.70</td>\n",
       "      <td>25.4380</td>\n",
       "      <td>330.0</td>\n",
       "      <td>15.8263</td>\n",
       "      <td>0.0</td>\n",
       "      <td>1020.36</td>\n",
       "      <td>Mostly cloudy throughout the day.</td>\n",
       "    </tr>\n",
       "    <tr>\n",
       "      <th>25833</th>\n",
       "      <td>2008-09-18 09:00:00.000 +0200</td>\n",
       "      <td>Mostly Cloudy</td>\n",
       "      <td>rain</td>\n",
       "      <td>7.805556</td>\n",
       "      <td>6.377778</td>\n",
       "      <td>0.89</td>\n",
       "      <td>8.2754</td>\n",
       "      <td>300.0</td>\n",
       "      <td>8.0017</td>\n",
       "      <td>0.0</td>\n",
       "      <td>1021.88</td>\n",
       "      <td>Mostly cloudy throughout the day.</td>\n",
       "    </tr>\n",
       "    <tr>\n",
       "      <th>283</th>\n",
       "      <td>2006-04-02 19:00:00.000 +0200</td>\n",
       "      <td>Partly Cloudy</td>\n",
       "      <td>rain</td>\n",
       "      <td>13.955556</td>\n",
       "      <td>13.955556</td>\n",
       "      <td>0.76</td>\n",
       "      <td>7.4221</td>\n",
       "      <td>147.0</td>\n",
       "      <td>11.2056</td>\n",
       "      <td>0.0</td>\n",
       "      <td>1013.24</td>\n",
       "      <td>Partly cloudy throughout the day.</td>\n",
       "    </tr>\n",
       "    <tr>\n",
       "      <th>89146</th>\n",
       "      <td>2016-12-01 13:00:00.000 +0100</td>\n",
       "      <td>Mostly Cloudy</td>\n",
       "      <td>rain</td>\n",
       "      <td>5.755556</td>\n",
       "      <td>2.833333</td>\n",
       "      <td>0.81</td>\n",
       "      <td>14.1358</td>\n",
       "      <td>185.0</td>\n",
       "      <td>10.4006</td>\n",
       "      <td>0.0</td>\n",
       "      <td>1019.31</td>\n",
       "      <td>Mostly cloudy throughout the day.</td>\n",
       "    </tr>\n",
       "    <tr>\n",
       "      <th>19655</th>\n",
       "      <td>2008-12-05 23:00:00.000 +0100</td>\n",
       "      <td>Overcast</td>\n",
       "      <td>rain</td>\n",
       "      <td>11.577778</td>\n",
       "      <td>11.577778</td>\n",
       "      <td>0.67</td>\n",
       "      <td>27.7725</td>\n",
       "      <td>170.0</td>\n",
       "      <td>14.9569</td>\n",
       "      <td>0.0</td>\n",
       "      <td>1005.19</td>\n",
       "      <td>Mostly cloudy throughout the day.</td>\n",
       "    </tr>\n",
       "    <tr>\n",
       "      <th>78954</th>\n",
       "      <td>2015-04-10 21:00:00.000 +0200</td>\n",
       "      <td>Partly Cloudy</td>\n",
       "      <td>rain</td>\n",
       "      <td>11.094444</td>\n",
       "      <td>11.094444</td>\n",
       "      <td>0.46</td>\n",
       "      <td>10.9480</td>\n",
       "      <td>131.0</td>\n",
       "      <td>16.1000</td>\n",
       "      <td>0.0</td>\n",
       "      <td>1025.36</td>\n",
       "      <td>Partly cloudy starting in the morning continui...</td>\n",
       "    </tr>\n",
       "  </tbody>\n",
       "</table>\n",
       "</div>"
      ],
      "text/plain": [
       "                      Formatted Date        Summary Precip Type  \\\n",
       "1021   2006-08-20 13:00:00.000 +0200  Partly Cloudy        rain   \n",
       "34848  2009-09-28 00:00:00.000 +0200  Mostly Cloudy        rain   \n",
       "24734  2008-11-04 15:00:00.000 +0100  Partly Cloudy        rain   \n",
       "71324  2014-08-26 20:00:00.000 +0200  Mostly Cloudy        rain   \n",
       "8950   2007-04-15 22:00:00.000 +0200  Partly Cloudy        rain   \n",
       "10041  2007-08-03 09:00:00.000 +0200          Clear        rain   \n",
       "73802  2014-07-10 02:00:00.000 +0200  Partly Cloudy        rain   \n",
       "14406  2007-03-03 07:00:00.000 +0100          Clear        rain   \n",
       "58398  2012-03-07 07:00:00.000 +0100          Clear        snow   \n",
       "90440  2016-02-04 11:00:00.000 +0100  Mostly Cloudy        rain   \n",
       "25833  2008-09-18 09:00:00.000 +0200  Mostly Cloudy        rain   \n",
       "283    2006-04-02 19:00:00.000 +0200  Partly Cloudy        rain   \n",
       "89146  2016-12-01 13:00:00.000 +0100  Mostly Cloudy        rain   \n",
       "19655  2008-12-05 23:00:00.000 +0100       Overcast        rain   \n",
       "78954  2015-04-10 21:00:00.000 +0200  Partly Cloudy        rain   \n",
       "\n",
       "       Temperature (C)  Apparent Temperature (C)  Humidity  Wind Speed (km/h)  \\\n",
       "1021         32.588889                 35.494444      0.50            11.3827   \n",
       "34848        15.555556                 15.555556      0.72             6.4400   \n",
       "24734        18.933333                 18.933333      0.65            10.8836   \n",
       "71324        22.288889                 22.288889      0.64             4.5724   \n",
       "8950         13.244444                 13.244444      0.43            13.9587   \n",
       "10041        23.866667                 23.866667      0.42            12.1877   \n",
       "73802        14.766667                 14.766667      0.93             5.8121   \n",
       "14406         1.338889                 -0.883333      0.93             7.1645   \n",
       "58398        -6.216667                 -8.877778      0.75             5.4740   \n",
       "90440         6.044444                  1.833333      0.70            25.4380   \n",
       "25833         7.805556                  6.377778      0.89             8.2754   \n",
       "283          13.955556                 13.955556      0.76             7.4221   \n",
       "89146         5.755556                  2.833333      0.81            14.1358   \n",
       "19655        11.577778                 11.577778      0.67            27.7725   \n",
       "78954        11.094444                 11.094444      0.46            10.9480   \n",
       "\n",
       "       Wind Bearing (degrees)  Visibility (km)  Loud Cover  \\\n",
       "1021                    252.0           9.9820         0.0   \n",
       "34848                   140.0          16.1000         0.0   \n",
       "24734                   129.0           9.9820         0.0   \n",
       "71324                   262.0          15.5526         0.0   \n",
       "8950                     21.0          15.8263         0.0   \n",
       "10041                   160.0           9.9820         0.0   \n",
       "73802                   301.0          11.9140         0.0   \n",
       "14406                   184.0           8.3398         0.0   \n",
       "58398                   325.0           9.9820         0.0   \n",
       "90440                   330.0          15.8263         0.0   \n",
       "25833                   300.0           8.0017         0.0   \n",
       "283                     147.0          11.2056         0.0   \n",
       "89146                   185.0          10.4006         0.0   \n",
       "19655                   170.0          14.9569         0.0   \n",
       "78954                   131.0          16.1000         0.0   \n",
       "\n",
       "       Pressure (millibars)                                      Daily Summary  \n",
       "1021                1016.61           Partly cloudy starting in the afternoon.  \n",
       "34848               1025.30                       Partly cloudy until evening.  \n",
       "24734               1022.18             Partly cloudy starting in the morning.  \n",
       "71324               1009.63                  Mostly cloudy throughout the day.  \n",
       "8950                1022.39           Partly cloudy starting in the afternoon.  \n",
       "10041               1015.50           Mostly cloudy starting in the afternoon.  \n",
       "73802               1007.44                  Partly cloudy throughout the day.  \n",
       "14406               1014.69             Mostly cloudy starting in the morning.  \n",
       "58398               1032.25  Partly cloudy starting in the afternoon contin...  \n",
       "90440               1020.36                  Mostly cloudy throughout the day.  \n",
       "25833               1021.88                  Mostly cloudy throughout the day.  \n",
       "283                 1013.24                  Partly cloudy throughout the day.  \n",
       "89146               1019.31                  Mostly cloudy throughout the day.  \n",
       "19655               1005.19                  Mostly cloudy throughout the day.  \n",
       "78954               1025.36  Partly cloudy starting in the morning continui...  "
      ]
     },
     "execution_count": 3,
     "metadata": {},
     "output_type": "execute_result"
    }
   ],
   "source": [
    "df.sample(15)"
   ]
  },
  {
   "cell_type": "code",
   "execution_count": 4,
   "id": "d5888cca",
   "metadata": {},
   "outputs": [
    {
     "data": {
      "text/plain": [
       "Index(['Formatted Date', 'Summary', 'Precip Type', 'Temperature (C)',\n",
       "       'Apparent Temperature (C)', 'Humidity', 'Wind Speed (km/h)',\n",
       "       'Wind Bearing (degrees)', 'Visibility (km)', 'Loud Cover',\n",
       "       'Pressure (millibars)', 'Daily Summary'],\n",
       "      dtype='object')"
      ]
     },
     "execution_count": 4,
     "metadata": {},
     "output_type": "execute_result"
    }
   ],
   "source": [
    "df.columns"
   ]
  },
  {
   "cell_type": "code",
   "execution_count": 5,
   "id": "12b14c74",
   "metadata": {},
   "outputs": [
    {
     "name": "stdout",
     "output_type": "stream",
     "text": [
      "<class 'pandas.core.frame.DataFrame'>\n",
      "RangeIndex: 96453 entries, 0 to 96452\n",
      "Data columns (total 12 columns):\n",
      " #   Column                    Non-Null Count  Dtype  \n",
      "---  ------                    --------------  -----  \n",
      " 0   Formatted Date            96453 non-null  object \n",
      " 1   Summary                   96453 non-null  object \n",
      " 2   Precip Type               95936 non-null  object \n",
      " 3   Temperature (C)           96453 non-null  float64\n",
      " 4   Apparent Temperature (C)  96453 non-null  float64\n",
      " 5   Humidity                  96453 non-null  float64\n",
      " 6   Wind Speed (km/h)         96453 non-null  float64\n",
      " 7   Wind Bearing (degrees)    96453 non-null  float64\n",
      " 8   Visibility (km)           96453 non-null  float64\n",
      " 9   Loud Cover                96453 non-null  float64\n",
      " 10  Pressure (millibars)      96453 non-null  float64\n",
      " 11  Daily Summary             96453 non-null  object \n",
      "dtypes: float64(8), object(4)\n",
      "memory usage: 8.8+ MB\n"
     ]
    }
   ],
   "source": [
    "df.info()"
   ]
  },
  {
   "cell_type": "code",
   "execution_count": 6,
   "id": "797e6326",
   "metadata": {},
   "outputs": [],
   "source": [
    "drop_list = []"
   ]
  },
  {
   "cell_type": "code",
   "execution_count": 8,
   "id": "1c4e65f5",
   "metadata": {},
   "outputs": [
    {
     "data": {
      "text/plain": [
       "0.0    96453\n",
       "Name: Loud Cover, dtype: int64"
      ]
     },
     "execution_count": 8,
     "metadata": {},
     "output_type": "execute_result"
    }
   ],
   "source": [
    "df['Loud Cover'].value_counts()"
   ]
  },
  {
   "cell_type": "code",
   "execution_count": 9,
   "id": "bfc6d0a4",
   "metadata": {},
   "outputs": [],
   "source": [
    "drop_list.append('Loud Cover')"
   ]
  },
  {
   "cell_type": "code",
   "execution_count": 11,
   "id": "2c76fb49",
   "metadata": {},
   "outputs": [
    {
     "data": {
      "text/plain": [
       "rain    85224\n",
       "snow    10712\n",
       "Name: Precip Type, dtype: int64"
      ]
     },
     "execution_count": 11,
     "metadata": {},
     "output_type": "execute_result"
    }
   ],
   "source": [
    "df['Precip Type'].value_counts()"
   ]
  },
  {
   "cell_type": "code",
   "execution_count": 14,
   "id": "1a81ee4d",
   "metadata": {},
   "outputs": [
    {
     "data": {
      "text/plain": [
       "Index(['Partly Cloudy', 'Mostly Cloudy', 'Overcast', 'Clear', 'Foggy',\n",
       "       'Breezy and Overcast', 'Breezy and Mostly Cloudy',\n",
       "       'Breezy and Partly Cloudy', 'Dry and Partly Cloudy',\n",
       "       'Windy and Partly Cloudy', 'Light Rain', 'Breezy', 'Windy and Overcast',\n",
       "       'Humid and Mostly Cloudy', 'Drizzle', 'Breezy and Foggy',\n",
       "       'Windy and Mostly Cloudy', 'Dry', 'Humid and Partly Cloudy',\n",
       "       'Dry and Mostly Cloudy', 'Rain', 'Windy', 'Humid and Overcast',\n",
       "       'Windy and Foggy', 'Windy and Dry',\n",
       "       'Dangerously Windy and Partly Cloudy', 'Breezy and Dry'],\n",
       "      dtype='object')"
      ]
     },
     "execution_count": 14,
     "metadata": {},
     "output_type": "execute_result"
    }
   ],
   "source": [
    "df['Summary'].value_counts().index"
   ]
  },
  {
   "cell_type": "code",
   "execution_count": 15,
   "id": "3c1209dc",
   "metadata": {},
   "outputs": [],
   "source": [
    "summaries = df['Summary'].value_counts().index.values[:5]"
   ]
  },
  {
   "cell_type": "code",
   "execution_count": 16,
   "id": "84715e07",
   "metadata": {},
   "outputs": [
    {
     "data": {
      "text/plain": [
       "array(['Partly Cloudy', 'Mostly Cloudy', 'Overcast', 'Clear', 'Foggy'],\n",
       "      dtype=object)"
      ]
     },
     "execution_count": 16,
     "metadata": {},
     "output_type": "execute_result"
    }
   ],
   "source": [
    "summaries"
   ]
  },
  {
   "cell_type": "code",
   "execution_count": 18,
   "id": "764b6408",
   "metadata": {},
   "outputs": [],
   "source": [
    "df = df.loc[df.Summary.isin(summaries)]"
   ]
  },
  {
   "cell_type": "code",
   "execution_count": 20,
   "id": "2b69d7ce",
   "metadata": {},
   "outputs": [
    {
     "data": {
      "text/plain": [
       "Partly Cloudy    31733\n",
       "Mostly Cloudy    28094\n",
       "Overcast         16597\n",
       "Clear            10890\n",
       "Foggy             7148\n",
       "Name: Summary, dtype: int64"
      ]
     },
     "execution_count": 20,
     "metadata": {},
     "output_type": "execute_result"
    }
   ],
   "source": [
    "df.Summary.value_counts()"
   ]
  },
  {
   "cell_type": "code",
   "execution_count": 21,
   "id": "d0d0c4a2",
   "metadata": {},
   "outputs": [
    {
     "data": {
      "text/plain": [
       "0         7.388889\n",
       "1         7.227778\n",
       "2         9.377778\n",
       "3         5.944444\n",
       "4         6.977778\n",
       "           ...    \n",
       "96448    26.016667\n",
       "96449    24.583333\n",
       "96450    22.038889\n",
       "96451    21.522222\n",
       "96452    20.438889\n",
       "Name: Apparent Temperature (C), Length: 94462, dtype: float64"
      ]
     },
     "execution_count": 21,
     "metadata": {},
     "output_type": "execute_result"
    }
   ],
   "source": [
    "df['Apparent Temperature (C)']"
   ]
  },
  {
   "cell_type": "code",
   "execution_count": 26,
   "id": "1a8e45d0",
   "metadata": {},
   "outputs": [
    {
     "data": {
      "text/plain": [
       "0.0"
      ]
     },
     "execution_count": 26,
     "metadata": {},
     "output_type": "execute_result"
    }
   ],
   "source": [
    "np.abs(df['Apparent Temperature (C)'] - df['Temperature (C)'])"
   ]
  },
  {
   "cell_type": "code",
   "execution_count": 27,
   "id": "7696b7e7",
   "metadata": {},
   "outputs": [],
   "source": [
    "drop_list.append('Apparent Temperature (C)')"
   ]
  },
  {
   "cell_type": "code",
   "execution_count": 30,
   "id": "adb6ad29",
   "metadata": {},
   "outputs": [
    {
     "data": {
      "text/plain": [
       "(213,)"
      ]
     },
     "execution_count": 30,
     "metadata": {},
     "output_type": "execute_result"
    }
   ],
   "source": [
    "df['Daily Summary'].value_counts()"
   ]
  },
  {
   "cell_type": "code",
   "execution_count": 31,
   "id": "1820c552",
   "metadata": {},
   "outputs": [],
   "source": [
    "drop_list.append('Daily Summary')"
   ]
  },
  {
   "cell_type": "code",
   "execution_count": 35,
   "id": "dd7a9de4",
   "metadata": {},
   "outputs": [
    {
     "data": {
      "text/plain": [
       "0        2006-04-01 00:00:00.000 +0200\n",
       "1        2006-04-01 01:00:00.000 +0200\n",
       "2        2006-04-01 02:00:00.000 +0200\n",
       "3        2006-04-01 03:00:00.000 +0200\n",
       "4        2006-04-01 04:00:00.000 +0200\n",
       "                     ...              \n",
       "96448    2016-09-09 19:00:00.000 +0200\n",
       "96449    2016-09-09 20:00:00.000 +0200\n",
       "96450    2016-09-09 21:00:00.000 +0200\n",
       "96451    2016-09-09 22:00:00.000 +0200\n",
       "96452    2016-09-09 23:00:00.000 +0200\n",
       "Name: Formatted Date, Length: 94462, dtype: object"
      ]
     },
     "execution_count": 35,
     "metadata": {},
     "output_type": "execute_result"
    }
   ],
   "source": [
    "df['Formatted Date']"
   ]
  },
  {
   "cell_type": "code",
   "execution_count": 36,
   "id": "03f0b991",
   "metadata": {},
   "outputs": [],
   "source": [
    "drop_list.append('Formatted Date')"
   ]
  },
  {
   "cell_type": "code",
   "execution_count": 39,
   "id": "556ecca9",
   "metadata": {},
   "outputs": [
    {
     "data": {
      "text/html": [
       "<div>\n",
       "<style scoped>\n",
       "    .dataframe tbody tr th:only-of-type {\n",
       "        vertical-align: middle;\n",
       "    }\n",
       "\n",
       "    .dataframe tbody tr th {\n",
       "        vertical-align: top;\n",
       "    }\n",
       "\n",
       "    .dataframe thead th {\n",
       "        text-align: right;\n",
       "    }\n",
       "</style>\n",
       "<table border=\"1\" class=\"dataframe\">\n",
       "  <thead>\n",
       "    <tr style=\"text-align: right;\">\n",
       "      <th></th>\n",
       "      <th>Summary</th>\n",
       "      <th>Precip Type</th>\n",
       "      <th>Temperature (C)</th>\n",
       "      <th>Humidity</th>\n",
       "      <th>Wind Speed (km/h)</th>\n",
       "      <th>Wind Bearing (degrees)</th>\n",
       "      <th>Visibility (km)</th>\n",
       "      <th>Pressure (millibars)</th>\n",
       "    </tr>\n",
       "  </thead>\n",
       "  <tbody>\n",
       "    <tr>\n",
       "      <th>0</th>\n",
       "      <td>Partly Cloudy</td>\n",
       "      <td>rain</td>\n",
       "      <td>9.472222</td>\n",
       "      <td>0.89</td>\n",
       "      <td>14.1197</td>\n",
       "      <td>251.0</td>\n",
       "      <td>15.8263</td>\n",
       "      <td>1015.13</td>\n",
       "    </tr>\n",
       "    <tr>\n",
       "      <th>1</th>\n",
       "      <td>Partly Cloudy</td>\n",
       "      <td>rain</td>\n",
       "      <td>9.355556</td>\n",
       "      <td>0.86</td>\n",
       "      <td>14.2646</td>\n",
       "      <td>259.0</td>\n",
       "      <td>15.8263</td>\n",
       "      <td>1015.63</td>\n",
       "    </tr>\n",
       "    <tr>\n",
       "      <th>2</th>\n",
       "      <td>Mostly Cloudy</td>\n",
       "      <td>rain</td>\n",
       "      <td>9.377778</td>\n",
       "      <td>0.89</td>\n",
       "      <td>3.9284</td>\n",
       "      <td>204.0</td>\n",
       "      <td>14.9569</td>\n",
       "      <td>1015.94</td>\n",
       "    </tr>\n",
       "    <tr>\n",
       "      <th>3</th>\n",
       "      <td>Partly Cloudy</td>\n",
       "      <td>rain</td>\n",
       "      <td>8.288889</td>\n",
       "      <td>0.83</td>\n",
       "      <td>14.1036</td>\n",
       "      <td>269.0</td>\n",
       "      <td>15.8263</td>\n",
       "      <td>1016.41</td>\n",
       "    </tr>\n",
       "    <tr>\n",
       "      <th>4</th>\n",
       "      <td>Mostly Cloudy</td>\n",
       "      <td>rain</td>\n",
       "      <td>8.755556</td>\n",
       "      <td>0.83</td>\n",
       "      <td>11.0446</td>\n",
       "      <td>259.0</td>\n",
       "      <td>15.8263</td>\n",
       "      <td>1016.51</td>\n",
       "    </tr>\n",
       "    <tr>\n",
       "      <th>...</th>\n",
       "      <td>...</td>\n",
       "      <td>...</td>\n",
       "      <td>...</td>\n",
       "      <td>...</td>\n",
       "      <td>...</td>\n",
       "      <td>...</td>\n",
       "      <td>...</td>\n",
       "      <td>...</td>\n",
       "    </tr>\n",
       "    <tr>\n",
       "      <th>96448</th>\n",
       "      <td>Partly Cloudy</td>\n",
       "      <td>rain</td>\n",
       "      <td>26.016667</td>\n",
       "      <td>0.43</td>\n",
       "      <td>10.9963</td>\n",
       "      <td>31.0</td>\n",
       "      <td>16.1000</td>\n",
       "      <td>1014.36</td>\n",
       "    </tr>\n",
       "    <tr>\n",
       "      <th>96449</th>\n",
       "      <td>Partly Cloudy</td>\n",
       "      <td>rain</td>\n",
       "      <td>24.583333</td>\n",
       "      <td>0.48</td>\n",
       "      <td>10.0947</td>\n",
       "      <td>20.0</td>\n",
       "      <td>15.5526</td>\n",
       "      <td>1015.16</td>\n",
       "    </tr>\n",
       "    <tr>\n",
       "      <th>96450</th>\n",
       "      <td>Partly Cloudy</td>\n",
       "      <td>rain</td>\n",
       "      <td>22.038889</td>\n",
       "      <td>0.56</td>\n",
       "      <td>8.9838</td>\n",
       "      <td>30.0</td>\n",
       "      <td>16.1000</td>\n",
       "      <td>1015.66</td>\n",
       "    </tr>\n",
       "    <tr>\n",
       "      <th>96451</th>\n",
       "      <td>Partly Cloudy</td>\n",
       "      <td>rain</td>\n",
       "      <td>21.522222</td>\n",
       "      <td>0.60</td>\n",
       "      <td>10.5294</td>\n",
       "      <td>20.0</td>\n",
       "      <td>16.1000</td>\n",
       "      <td>1015.95</td>\n",
       "    </tr>\n",
       "    <tr>\n",
       "      <th>96452</th>\n",
       "      <td>Partly Cloudy</td>\n",
       "      <td>rain</td>\n",
       "      <td>20.438889</td>\n",
       "      <td>0.61</td>\n",
       "      <td>5.8765</td>\n",
       "      <td>39.0</td>\n",
       "      <td>15.5204</td>\n",
       "      <td>1016.16</td>\n",
       "    </tr>\n",
       "  </tbody>\n",
       "</table>\n",
       "<p>94462 rows × 8 columns</p>\n",
       "</div>"
      ],
      "text/plain": [
       "             Summary Precip Type  Temperature (C)  Humidity  \\\n",
       "0      Partly Cloudy        rain         9.472222      0.89   \n",
       "1      Partly Cloudy        rain         9.355556      0.86   \n",
       "2      Mostly Cloudy        rain         9.377778      0.89   \n",
       "3      Partly Cloudy        rain         8.288889      0.83   \n",
       "4      Mostly Cloudy        rain         8.755556      0.83   \n",
       "...              ...         ...              ...       ...   \n",
       "96448  Partly Cloudy        rain        26.016667      0.43   \n",
       "96449  Partly Cloudy        rain        24.583333      0.48   \n",
       "96450  Partly Cloudy        rain        22.038889      0.56   \n",
       "96451  Partly Cloudy        rain        21.522222      0.60   \n",
       "96452  Partly Cloudy        rain        20.438889      0.61   \n",
       "\n",
       "       Wind Speed (km/h)  Wind Bearing (degrees)  Visibility (km)  \\\n",
       "0                14.1197                   251.0          15.8263   \n",
       "1                14.2646                   259.0          15.8263   \n",
       "2                 3.9284                   204.0          14.9569   \n",
       "3                14.1036                   269.0          15.8263   \n",
       "4                11.0446                   259.0          15.8263   \n",
       "...                  ...                     ...              ...   \n",
       "96448            10.9963                    31.0          16.1000   \n",
       "96449            10.0947                    20.0          15.5526   \n",
       "96450             8.9838                    30.0          16.1000   \n",
       "96451            10.5294                    20.0          16.1000   \n",
       "96452             5.8765                    39.0          15.5204   \n",
       "\n",
       "       Pressure (millibars)  \n",
       "0                   1015.13  \n",
       "1                   1015.63  \n",
       "2                   1015.94  \n",
       "3                   1016.41  \n",
       "4                   1016.51  \n",
       "...                     ...  \n",
       "96448               1014.36  \n",
       "96449               1015.16  \n",
       "96450               1015.66  \n",
       "96451               1015.95  \n",
       "96452               1016.16  \n",
       "\n",
       "[94462 rows x 8 columns]"
      ]
     },
     "execution_count": 39,
     "metadata": {},
     "output_type": "execute_result"
    }
   ],
   "source": [
    "df.drop(drop_list, axis=1)"
   ]
  },
  {
   "cell_type": "code",
   "execution_count": 40,
   "id": "49d3be41",
   "metadata": {},
   "outputs": [],
   "source": [
    "summaries = pd.get_dummies(df['Summary'], drop_first=True)"
   ]
  },
  {
   "cell_type": "code",
   "execution_count": 42,
   "id": "900b2272",
   "metadata": {},
   "outputs": [],
   "source": [
    "drop_list.append('Summary')"
   ]
  },
  {
   "cell_type": "code",
   "execution_count": 43,
   "id": "81d8c454",
   "metadata": {},
   "outputs": [],
   "source": [
    "precip_types = pd.get_dummies(df['Precip Type'], drop_first=True)"
   ]
  },
  {
   "cell_type": "code",
   "execution_count": 48,
   "id": "cd6c9cfb",
   "metadata": {},
   "outputs": [],
   "source": [
    "drop_list.append('Precip Type')"
   ]
  },
  {
   "cell_type": "code",
   "execution_count": 49,
   "id": "13835187",
   "metadata": {},
   "outputs": [],
   "source": [
    "df_ = df.drop(drop_list, axis=1)"
   ]
  },
  {
   "cell_type": "code",
   "execution_count": 50,
   "id": "f1eda0ee",
   "metadata": {},
   "outputs": [
    {
     "data": {
      "text/html": [
       "<div>\n",
       "<style scoped>\n",
       "    .dataframe tbody tr th:only-of-type {\n",
       "        vertical-align: middle;\n",
       "    }\n",
       "\n",
       "    .dataframe tbody tr th {\n",
       "        vertical-align: top;\n",
       "    }\n",
       "\n",
       "    .dataframe thead th {\n",
       "        text-align: right;\n",
       "    }\n",
       "</style>\n",
       "<table border=\"1\" class=\"dataframe\">\n",
       "  <thead>\n",
       "    <tr style=\"text-align: right;\">\n",
       "      <th></th>\n",
       "      <th>Temperature (C)</th>\n",
       "      <th>Humidity</th>\n",
       "      <th>Wind Speed (km/h)</th>\n",
       "      <th>Wind Bearing (degrees)</th>\n",
       "      <th>Visibility (km)</th>\n",
       "      <th>Pressure (millibars)</th>\n",
       "    </tr>\n",
       "  </thead>\n",
       "  <tbody>\n",
       "    <tr>\n",
       "      <th>0</th>\n",
       "      <td>9.472222</td>\n",
       "      <td>0.89</td>\n",
       "      <td>14.1197</td>\n",
       "      <td>251.0</td>\n",
       "      <td>15.8263</td>\n",
       "      <td>1015.13</td>\n",
       "    </tr>\n",
       "    <tr>\n",
       "      <th>1</th>\n",
       "      <td>9.355556</td>\n",
       "      <td>0.86</td>\n",
       "      <td>14.2646</td>\n",
       "      <td>259.0</td>\n",
       "      <td>15.8263</td>\n",
       "      <td>1015.63</td>\n",
       "    </tr>\n",
       "    <tr>\n",
       "      <th>2</th>\n",
       "      <td>9.377778</td>\n",
       "      <td>0.89</td>\n",
       "      <td>3.9284</td>\n",
       "      <td>204.0</td>\n",
       "      <td>14.9569</td>\n",
       "      <td>1015.94</td>\n",
       "    </tr>\n",
       "    <tr>\n",
       "      <th>3</th>\n",
       "      <td>8.288889</td>\n",
       "      <td>0.83</td>\n",
       "      <td>14.1036</td>\n",
       "      <td>269.0</td>\n",
       "      <td>15.8263</td>\n",
       "      <td>1016.41</td>\n",
       "    </tr>\n",
       "    <tr>\n",
       "      <th>4</th>\n",
       "      <td>8.755556</td>\n",
       "      <td>0.83</td>\n",
       "      <td>11.0446</td>\n",
       "      <td>259.0</td>\n",
       "      <td>15.8263</td>\n",
       "      <td>1016.51</td>\n",
       "    </tr>\n",
       "    <tr>\n",
       "      <th>...</th>\n",
       "      <td>...</td>\n",
       "      <td>...</td>\n",
       "      <td>...</td>\n",
       "      <td>...</td>\n",
       "      <td>...</td>\n",
       "      <td>...</td>\n",
       "    </tr>\n",
       "    <tr>\n",
       "      <th>96448</th>\n",
       "      <td>26.016667</td>\n",
       "      <td>0.43</td>\n",
       "      <td>10.9963</td>\n",
       "      <td>31.0</td>\n",
       "      <td>16.1000</td>\n",
       "      <td>1014.36</td>\n",
       "    </tr>\n",
       "    <tr>\n",
       "      <th>96449</th>\n",
       "      <td>24.583333</td>\n",
       "      <td>0.48</td>\n",
       "      <td>10.0947</td>\n",
       "      <td>20.0</td>\n",
       "      <td>15.5526</td>\n",
       "      <td>1015.16</td>\n",
       "    </tr>\n",
       "    <tr>\n",
       "      <th>96450</th>\n",
       "      <td>22.038889</td>\n",
       "      <td>0.56</td>\n",
       "      <td>8.9838</td>\n",
       "      <td>30.0</td>\n",
       "      <td>16.1000</td>\n",
       "      <td>1015.66</td>\n",
       "    </tr>\n",
       "    <tr>\n",
       "      <th>96451</th>\n",
       "      <td>21.522222</td>\n",
       "      <td>0.60</td>\n",
       "      <td>10.5294</td>\n",
       "      <td>20.0</td>\n",
       "      <td>16.1000</td>\n",
       "      <td>1015.95</td>\n",
       "    </tr>\n",
       "    <tr>\n",
       "      <th>96452</th>\n",
       "      <td>20.438889</td>\n",
       "      <td>0.61</td>\n",
       "      <td>5.8765</td>\n",
       "      <td>39.0</td>\n",
       "      <td>15.5204</td>\n",
       "      <td>1016.16</td>\n",
       "    </tr>\n",
       "  </tbody>\n",
       "</table>\n",
       "<p>94462 rows × 6 columns</p>\n",
       "</div>"
      ],
      "text/plain": [
       "       Temperature (C)  Humidity  Wind Speed (km/h)  Wind Bearing (degrees)  \\\n",
       "0             9.472222      0.89            14.1197                   251.0   \n",
       "1             9.355556      0.86            14.2646                   259.0   \n",
       "2             9.377778      0.89             3.9284                   204.0   \n",
       "3             8.288889      0.83            14.1036                   269.0   \n",
       "4             8.755556      0.83            11.0446                   259.0   \n",
       "...                ...       ...                ...                     ...   \n",
       "96448        26.016667      0.43            10.9963                    31.0   \n",
       "96449        24.583333      0.48            10.0947                    20.0   \n",
       "96450        22.038889      0.56             8.9838                    30.0   \n",
       "96451        21.522222      0.60            10.5294                    20.0   \n",
       "96452        20.438889      0.61             5.8765                    39.0   \n",
       "\n",
       "       Visibility (km)  Pressure (millibars)  \n",
       "0              15.8263               1015.13  \n",
       "1              15.8263               1015.63  \n",
       "2              14.9569               1015.94  \n",
       "3              15.8263               1016.41  \n",
       "4              15.8263               1016.51  \n",
       "...                ...                   ...  \n",
       "96448          16.1000               1014.36  \n",
       "96449          15.5526               1015.16  \n",
       "96450          16.1000               1015.66  \n",
       "96451          16.1000               1015.95  \n",
       "96452          15.5204               1016.16  \n",
       "\n",
       "[94462 rows x 6 columns]"
      ]
     },
     "execution_count": 50,
     "metadata": {},
     "output_type": "execute_result"
    }
   ],
   "source": [
    "df_"
   ]
  },
  {
   "cell_type": "code",
   "execution_count": 51,
   "id": "8f5d807e",
   "metadata": {},
   "outputs": [],
   "source": [
    "df_ = pd.concat([df_, summaries, precip_types], axis=1)"
   ]
  },
  {
   "cell_type": "code",
   "execution_count": 52,
   "id": "926cf826",
   "metadata": {},
   "outputs": [
    {
     "data": {
      "text/html": [
       "<div>\n",
       "<style scoped>\n",
       "    .dataframe tbody tr th:only-of-type {\n",
       "        vertical-align: middle;\n",
       "    }\n",
       "\n",
       "    .dataframe tbody tr th {\n",
       "        vertical-align: top;\n",
       "    }\n",
       "\n",
       "    .dataframe thead th {\n",
       "        text-align: right;\n",
       "    }\n",
       "</style>\n",
       "<table border=\"1\" class=\"dataframe\">\n",
       "  <thead>\n",
       "    <tr style=\"text-align: right;\">\n",
       "      <th></th>\n",
       "      <th>Temperature (C)</th>\n",
       "      <th>Humidity</th>\n",
       "      <th>Wind Speed (km/h)</th>\n",
       "      <th>Wind Bearing (degrees)</th>\n",
       "      <th>Visibility (km)</th>\n",
       "      <th>Pressure (millibars)</th>\n",
       "      <th>Foggy</th>\n",
       "      <th>Mostly Cloudy</th>\n",
       "      <th>Overcast</th>\n",
       "      <th>Partly Cloudy</th>\n",
       "      <th>snow</th>\n",
       "    </tr>\n",
       "  </thead>\n",
       "  <tbody>\n",
       "    <tr>\n",
       "      <th>0</th>\n",
       "      <td>9.472222</td>\n",
       "      <td>0.89</td>\n",
       "      <td>14.1197</td>\n",
       "      <td>251.0</td>\n",
       "      <td>15.8263</td>\n",
       "      <td>1015.13</td>\n",
       "      <td>0</td>\n",
       "      <td>0</td>\n",
       "      <td>0</td>\n",
       "      <td>1</td>\n",
       "      <td>0</td>\n",
       "    </tr>\n",
       "    <tr>\n",
       "      <th>1</th>\n",
       "      <td>9.355556</td>\n",
       "      <td>0.86</td>\n",
       "      <td>14.2646</td>\n",
       "      <td>259.0</td>\n",
       "      <td>15.8263</td>\n",
       "      <td>1015.63</td>\n",
       "      <td>0</td>\n",
       "      <td>0</td>\n",
       "      <td>0</td>\n",
       "      <td>1</td>\n",
       "      <td>0</td>\n",
       "    </tr>\n",
       "    <tr>\n",
       "      <th>2</th>\n",
       "      <td>9.377778</td>\n",
       "      <td>0.89</td>\n",
       "      <td>3.9284</td>\n",
       "      <td>204.0</td>\n",
       "      <td>14.9569</td>\n",
       "      <td>1015.94</td>\n",
       "      <td>0</td>\n",
       "      <td>1</td>\n",
       "      <td>0</td>\n",
       "      <td>0</td>\n",
       "      <td>0</td>\n",
       "    </tr>\n",
       "    <tr>\n",
       "      <th>3</th>\n",
       "      <td>8.288889</td>\n",
       "      <td>0.83</td>\n",
       "      <td>14.1036</td>\n",
       "      <td>269.0</td>\n",
       "      <td>15.8263</td>\n",
       "      <td>1016.41</td>\n",
       "      <td>0</td>\n",
       "      <td>0</td>\n",
       "      <td>0</td>\n",
       "      <td>1</td>\n",
       "      <td>0</td>\n",
       "    </tr>\n",
       "    <tr>\n",
       "      <th>4</th>\n",
       "      <td>8.755556</td>\n",
       "      <td>0.83</td>\n",
       "      <td>11.0446</td>\n",
       "      <td>259.0</td>\n",
       "      <td>15.8263</td>\n",
       "      <td>1016.51</td>\n",
       "      <td>0</td>\n",
       "      <td>1</td>\n",
       "      <td>0</td>\n",
       "      <td>0</td>\n",
       "      <td>0</td>\n",
       "    </tr>\n",
       "    <tr>\n",
       "      <th>...</th>\n",
       "      <td>...</td>\n",
       "      <td>...</td>\n",
       "      <td>...</td>\n",
       "      <td>...</td>\n",
       "      <td>...</td>\n",
       "      <td>...</td>\n",
       "      <td>...</td>\n",
       "      <td>...</td>\n",
       "      <td>...</td>\n",
       "      <td>...</td>\n",
       "      <td>...</td>\n",
       "    </tr>\n",
       "    <tr>\n",
       "      <th>96448</th>\n",
       "      <td>26.016667</td>\n",
       "      <td>0.43</td>\n",
       "      <td>10.9963</td>\n",
       "      <td>31.0</td>\n",
       "      <td>16.1000</td>\n",
       "      <td>1014.36</td>\n",
       "      <td>0</td>\n",
       "      <td>0</td>\n",
       "      <td>0</td>\n",
       "      <td>1</td>\n",
       "      <td>0</td>\n",
       "    </tr>\n",
       "    <tr>\n",
       "      <th>96449</th>\n",
       "      <td>24.583333</td>\n",
       "      <td>0.48</td>\n",
       "      <td>10.0947</td>\n",
       "      <td>20.0</td>\n",
       "      <td>15.5526</td>\n",
       "      <td>1015.16</td>\n",
       "      <td>0</td>\n",
       "      <td>0</td>\n",
       "      <td>0</td>\n",
       "      <td>1</td>\n",
       "      <td>0</td>\n",
       "    </tr>\n",
       "    <tr>\n",
       "      <th>96450</th>\n",
       "      <td>22.038889</td>\n",
       "      <td>0.56</td>\n",
       "      <td>8.9838</td>\n",
       "      <td>30.0</td>\n",
       "      <td>16.1000</td>\n",
       "      <td>1015.66</td>\n",
       "      <td>0</td>\n",
       "      <td>0</td>\n",
       "      <td>0</td>\n",
       "      <td>1</td>\n",
       "      <td>0</td>\n",
       "    </tr>\n",
       "    <tr>\n",
       "      <th>96451</th>\n",
       "      <td>21.522222</td>\n",
       "      <td>0.60</td>\n",
       "      <td>10.5294</td>\n",
       "      <td>20.0</td>\n",
       "      <td>16.1000</td>\n",
       "      <td>1015.95</td>\n",
       "      <td>0</td>\n",
       "      <td>0</td>\n",
       "      <td>0</td>\n",
       "      <td>1</td>\n",
       "      <td>0</td>\n",
       "    </tr>\n",
       "    <tr>\n",
       "      <th>96452</th>\n",
       "      <td>20.438889</td>\n",
       "      <td>0.61</td>\n",
       "      <td>5.8765</td>\n",
       "      <td>39.0</td>\n",
       "      <td>15.5204</td>\n",
       "      <td>1016.16</td>\n",
       "      <td>0</td>\n",
       "      <td>0</td>\n",
       "      <td>0</td>\n",
       "      <td>1</td>\n",
       "      <td>0</td>\n",
       "    </tr>\n",
       "  </tbody>\n",
       "</table>\n",
       "<p>94462 rows × 11 columns</p>\n",
       "</div>"
      ],
      "text/plain": [
       "       Temperature (C)  Humidity  Wind Speed (km/h)  Wind Bearing (degrees)  \\\n",
       "0             9.472222      0.89            14.1197                   251.0   \n",
       "1             9.355556      0.86            14.2646                   259.0   \n",
       "2             9.377778      0.89             3.9284                   204.0   \n",
       "3             8.288889      0.83            14.1036                   269.0   \n",
       "4             8.755556      0.83            11.0446                   259.0   \n",
       "...                ...       ...                ...                     ...   \n",
       "96448        26.016667      0.43            10.9963                    31.0   \n",
       "96449        24.583333      0.48            10.0947                    20.0   \n",
       "96450        22.038889      0.56             8.9838                    30.0   \n",
       "96451        21.522222      0.60            10.5294                    20.0   \n",
       "96452        20.438889      0.61             5.8765                    39.0   \n",
       "\n",
       "       Visibility (km)  Pressure (millibars)  Foggy  Mostly Cloudy  Overcast  \\\n",
       "0              15.8263               1015.13      0              0         0   \n",
       "1              15.8263               1015.63      0              0         0   \n",
       "2              14.9569               1015.94      0              1         0   \n",
       "3              15.8263               1016.41      0              0         0   \n",
       "4              15.8263               1016.51      0              1         0   \n",
       "...                ...                   ...    ...            ...       ...   \n",
       "96448          16.1000               1014.36      0              0         0   \n",
       "96449          15.5526               1015.16      0              0         0   \n",
       "96450          16.1000               1015.66      0              0         0   \n",
       "96451          16.1000               1015.95      0              0         0   \n",
       "96452          15.5204               1016.16      0              0         0   \n",
       "\n",
       "       Partly Cloudy  snow  \n",
       "0                  1     0  \n",
       "1                  1     0  \n",
       "2                  0     0  \n",
       "3                  1     0  \n",
       "4                  0     0  \n",
       "...              ...   ...  \n",
       "96448              1     0  \n",
       "96449              1     0  \n",
       "96450              1     0  \n",
       "96451              1     0  \n",
       "96452              1     0  \n",
       "\n",
       "[94462 rows x 11 columns]"
      ]
     },
     "execution_count": 52,
     "metadata": {},
     "output_type": "execute_result"
    }
   ],
   "source": [
    "df_"
   ]
  },
  {
   "cell_type": "code",
   "execution_count": null,
   "id": "d455bf32",
   "metadata": {},
   "outputs": [],
   "source": []
  },
  {
   "cell_type": "code",
   "execution_count": 53,
   "id": "0a318173",
   "metadata": {},
   "outputs": [
    {
     "data": {
      "text/plain": [
       "0.0"
      ]
     },
     "execution_count": 53,
     "metadata": {},
     "output_type": "execute_result"
    }
   ],
   "source": [
    "df_.loc[df_.snow == 1]['Temperature (C)'].max()"
   ]
  },
  {
   "cell_type": "code",
   "execution_count": 54,
   "id": "9f0d759d",
   "metadata": {},
   "outputs": [
    {
     "data": {
      "text/plain": [
       "-21.822222222222223"
      ]
     },
     "execution_count": 54,
     "metadata": {},
     "output_type": "execute_result"
    }
   ],
   "source": [
    "df_.loc[df_.snow == 1]['Temperature (C)'].min()"
   ]
  },
  {
   "cell_type": "code",
   "execution_count": 56,
   "id": "36439da6",
   "metadata": {},
   "outputs": [],
   "source": [
    "df_.drop('snow', inplace=True, axis=1)"
   ]
  },
  {
   "cell_type": "code",
   "execution_count": 57,
   "id": "9ef5780d",
   "metadata": {},
   "outputs": [
    {
     "data": {
      "text/html": [
       "<div>\n",
       "<style scoped>\n",
       "    .dataframe tbody tr th:only-of-type {\n",
       "        vertical-align: middle;\n",
       "    }\n",
       "\n",
       "    .dataframe tbody tr th {\n",
       "        vertical-align: top;\n",
       "    }\n",
       "\n",
       "    .dataframe thead th {\n",
       "        text-align: right;\n",
       "    }\n",
       "</style>\n",
       "<table border=\"1\" class=\"dataframe\">\n",
       "  <thead>\n",
       "    <tr style=\"text-align: right;\">\n",
       "      <th></th>\n",
       "      <th>Temperature (C)</th>\n",
       "      <th>Humidity</th>\n",
       "      <th>Wind Speed (km/h)</th>\n",
       "      <th>Wind Bearing (degrees)</th>\n",
       "      <th>Visibility (km)</th>\n",
       "      <th>Pressure (millibars)</th>\n",
       "      <th>Foggy</th>\n",
       "      <th>Mostly Cloudy</th>\n",
       "      <th>Overcast</th>\n",
       "      <th>Partly Cloudy</th>\n",
       "    </tr>\n",
       "  </thead>\n",
       "  <tbody>\n",
       "    <tr>\n",
       "      <th>0</th>\n",
       "      <td>9.472222</td>\n",
       "      <td>0.89</td>\n",
       "      <td>14.1197</td>\n",
       "      <td>251.0</td>\n",
       "      <td>15.8263</td>\n",
       "      <td>1015.13</td>\n",
       "      <td>0</td>\n",
       "      <td>0</td>\n",
       "      <td>0</td>\n",
       "      <td>1</td>\n",
       "    </tr>\n",
       "    <tr>\n",
       "      <th>1</th>\n",
       "      <td>9.355556</td>\n",
       "      <td>0.86</td>\n",
       "      <td>14.2646</td>\n",
       "      <td>259.0</td>\n",
       "      <td>15.8263</td>\n",
       "      <td>1015.63</td>\n",
       "      <td>0</td>\n",
       "      <td>0</td>\n",
       "      <td>0</td>\n",
       "      <td>1</td>\n",
       "    </tr>\n",
       "    <tr>\n",
       "      <th>2</th>\n",
       "      <td>9.377778</td>\n",
       "      <td>0.89</td>\n",
       "      <td>3.9284</td>\n",
       "      <td>204.0</td>\n",
       "      <td>14.9569</td>\n",
       "      <td>1015.94</td>\n",
       "      <td>0</td>\n",
       "      <td>1</td>\n",
       "      <td>0</td>\n",
       "      <td>0</td>\n",
       "    </tr>\n",
       "    <tr>\n",
       "      <th>3</th>\n",
       "      <td>8.288889</td>\n",
       "      <td>0.83</td>\n",
       "      <td>14.1036</td>\n",
       "      <td>269.0</td>\n",
       "      <td>15.8263</td>\n",
       "      <td>1016.41</td>\n",
       "      <td>0</td>\n",
       "      <td>0</td>\n",
       "      <td>0</td>\n",
       "      <td>1</td>\n",
       "    </tr>\n",
       "    <tr>\n",
       "      <th>4</th>\n",
       "      <td>8.755556</td>\n",
       "      <td>0.83</td>\n",
       "      <td>11.0446</td>\n",
       "      <td>259.0</td>\n",
       "      <td>15.8263</td>\n",
       "      <td>1016.51</td>\n",
       "      <td>0</td>\n",
       "      <td>1</td>\n",
       "      <td>0</td>\n",
       "      <td>0</td>\n",
       "    </tr>\n",
       "    <tr>\n",
       "      <th>...</th>\n",
       "      <td>...</td>\n",
       "      <td>...</td>\n",
       "      <td>...</td>\n",
       "      <td>...</td>\n",
       "      <td>...</td>\n",
       "      <td>...</td>\n",
       "      <td>...</td>\n",
       "      <td>...</td>\n",
       "      <td>...</td>\n",
       "      <td>...</td>\n",
       "    </tr>\n",
       "    <tr>\n",
       "      <th>96448</th>\n",
       "      <td>26.016667</td>\n",
       "      <td>0.43</td>\n",
       "      <td>10.9963</td>\n",
       "      <td>31.0</td>\n",
       "      <td>16.1000</td>\n",
       "      <td>1014.36</td>\n",
       "      <td>0</td>\n",
       "      <td>0</td>\n",
       "      <td>0</td>\n",
       "      <td>1</td>\n",
       "    </tr>\n",
       "    <tr>\n",
       "      <th>96449</th>\n",
       "      <td>24.583333</td>\n",
       "      <td>0.48</td>\n",
       "      <td>10.0947</td>\n",
       "      <td>20.0</td>\n",
       "      <td>15.5526</td>\n",
       "      <td>1015.16</td>\n",
       "      <td>0</td>\n",
       "      <td>0</td>\n",
       "      <td>0</td>\n",
       "      <td>1</td>\n",
       "    </tr>\n",
       "    <tr>\n",
       "      <th>96450</th>\n",
       "      <td>22.038889</td>\n",
       "      <td>0.56</td>\n",
       "      <td>8.9838</td>\n",
       "      <td>30.0</td>\n",
       "      <td>16.1000</td>\n",
       "      <td>1015.66</td>\n",
       "      <td>0</td>\n",
       "      <td>0</td>\n",
       "      <td>0</td>\n",
       "      <td>1</td>\n",
       "    </tr>\n",
       "    <tr>\n",
       "      <th>96451</th>\n",
       "      <td>21.522222</td>\n",
       "      <td>0.60</td>\n",
       "      <td>10.5294</td>\n",
       "      <td>20.0</td>\n",
       "      <td>16.1000</td>\n",
       "      <td>1015.95</td>\n",
       "      <td>0</td>\n",
       "      <td>0</td>\n",
       "      <td>0</td>\n",
       "      <td>1</td>\n",
       "    </tr>\n",
       "    <tr>\n",
       "      <th>96452</th>\n",
       "      <td>20.438889</td>\n",
       "      <td>0.61</td>\n",
       "      <td>5.8765</td>\n",
       "      <td>39.0</td>\n",
       "      <td>15.5204</td>\n",
       "      <td>1016.16</td>\n",
       "      <td>0</td>\n",
       "      <td>0</td>\n",
       "      <td>0</td>\n",
       "      <td>1</td>\n",
       "    </tr>\n",
       "  </tbody>\n",
       "</table>\n",
       "<p>94462 rows × 10 columns</p>\n",
       "</div>"
      ],
      "text/plain": [
       "       Temperature (C)  Humidity  Wind Speed (km/h)  Wind Bearing (degrees)  \\\n",
       "0             9.472222      0.89            14.1197                   251.0   \n",
       "1             9.355556      0.86            14.2646                   259.0   \n",
       "2             9.377778      0.89             3.9284                   204.0   \n",
       "3             8.288889      0.83            14.1036                   269.0   \n",
       "4             8.755556      0.83            11.0446                   259.0   \n",
       "...                ...       ...                ...                     ...   \n",
       "96448        26.016667      0.43            10.9963                    31.0   \n",
       "96449        24.583333      0.48            10.0947                    20.0   \n",
       "96450        22.038889      0.56             8.9838                    30.0   \n",
       "96451        21.522222      0.60            10.5294                    20.0   \n",
       "96452        20.438889      0.61             5.8765                    39.0   \n",
       "\n",
       "       Visibility (km)  Pressure (millibars)  Foggy  Mostly Cloudy  Overcast  \\\n",
       "0              15.8263               1015.13      0              0         0   \n",
       "1              15.8263               1015.63      0              0         0   \n",
       "2              14.9569               1015.94      0              1         0   \n",
       "3              15.8263               1016.41      0              0         0   \n",
       "4              15.8263               1016.51      0              1         0   \n",
       "...                ...                   ...    ...            ...       ...   \n",
       "96448          16.1000               1014.36      0              0         0   \n",
       "96449          15.5526               1015.16      0              0         0   \n",
       "96450          16.1000               1015.66      0              0         0   \n",
       "96451          16.1000               1015.95      0              0         0   \n",
       "96452          15.5204               1016.16      0              0         0   \n",
       "\n",
       "       Partly Cloudy  \n",
       "0                  1  \n",
       "1                  1  \n",
       "2                  0  \n",
       "3                  1  \n",
       "4                  0  \n",
       "...              ...  \n",
       "96448              1  \n",
       "96449              1  \n",
       "96450              1  \n",
       "96451              1  \n",
       "96452              1  \n",
       "\n",
       "[94462 rows x 10 columns]"
      ]
     },
     "execution_count": 57,
     "metadata": {},
     "output_type": "execute_result"
    }
   ],
   "source": [
    "df_"
   ]
  },
  {
   "cell_type": "code",
   "execution_count": 58,
   "id": "24f18ca7",
   "metadata": {},
   "outputs": [],
   "source": [
    "from sklearn.model_selection import train_test_split"
   ]
  },
  {
   "cell_type": "code",
   "execution_count": 60,
   "id": "1f3b41fe",
   "metadata": {},
   "outputs": [],
   "source": [
    "import statsmodels.api as sm"
   ]
  },
  {
   "cell_type": "code",
   "execution_count": 61,
   "id": "a3ed0295",
   "metadata": {},
   "outputs": [],
   "source": [
    "X_train, X_test, y_train, y_test = train_test_split(\n",
    "    sm.add_constant(df_.iloc[:,1:-1]),\n",
    "    df_.iloc[:,0],\n",
    "    test_size=0.3,\n",
    "    random_state=1337\n",
    ")"
   ]
  },
  {
   "cell_type": "code",
   "execution_count": 62,
   "id": "2dba0b6b",
   "metadata": {},
   "outputs": [],
   "source": [
    "model = sm.OLS(y_train, X_train).fit()"
   ]
  },
  {
   "cell_type": "code",
   "execution_count": 63,
   "id": "719cf978",
   "metadata": {},
   "outputs": [
    {
     "data": {
      "text/html": [
       "<table class=\"simpletable\">\n",
       "<caption>OLS Regression Results</caption>\n",
       "<tr>\n",
       "  <th>Dep. Variable:</th>     <td>Temperature (C)</td> <th>  R-squared:         </th>  <td>   0.454</td>  \n",
       "</tr>\n",
       "<tr>\n",
       "  <th>Model:</th>                   <td>OLS</td>       <th>  Adj. R-squared:    </th>  <td>   0.454</td>  \n",
       "</tr>\n",
       "<tr>\n",
       "  <th>Method:</th>             <td>Least Squares</td>  <th>  F-statistic:       </th>  <td>   6881.</td>  \n",
       "</tr>\n",
       "<tr>\n",
       "  <th>Date:</th>             <td>Tue, 14 Feb 2023</td> <th>  Prob (F-statistic):</th>   <td>  0.00</td>   \n",
       "</tr>\n",
       "<tr>\n",
       "  <th>Time:</th>                 <td>13:40:24</td>     <th>  Log-Likelihood:    </th> <td>-2.2321e+05</td>\n",
       "</tr>\n",
       "<tr>\n",
       "  <th>No. Observations:</th>      <td> 66123</td>      <th>  AIC:               </th>  <td>4.464e+05</td> \n",
       "</tr>\n",
       "<tr>\n",
       "  <th>Df Residuals:</th>          <td> 66114</td>      <th>  BIC:               </th>  <td>4.465e+05</td> \n",
       "</tr>\n",
       "<tr>\n",
       "  <th>Df Model:</th>              <td>     8</td>      <th>                     </th>      <td> </td>     \n",
       "</tr>\n",
       "<tr>\n",
       "  <th>Covariance Type:</th>      <td>nonrobust</td>    <th>                     </th>      <td> </td>     \n",
       "</tr>\n",
       "</table>\n",
       "<table class=\"simpletable\">\n",
       "<tr>\n",
       "             <td></td>               <th>coef</th>     <th>std err</th>      <th>t</th>      <th>P>|t|</th>  <th>[0.025</th>    <th>0.975]</th>  \n",
       "</tr>\n",
       "<tr>\n",
       "  <th>const</th>                  <td>   32.7199</td> <td>    0.299</td> <td>  109.509</td> <td> 0.000</td> <td>   32.134</td> <td>   33.305</td>\n",
       "</tr>\n",
       "<tr>\n",
       "  <th>Humidity</th>               <td>  -28.2070</td> <td>    0.165</td> <td> -170.907</td> <td> 0.000</td> <td>  -28.530</td> <td>  -27.883</td>\n",
       "</tr>\n",
       "<tr>\n",
       "  <th>Wind Speed (km/h)</th>      <td>   -0.1960</td> <td>    0.005</td> <td>  -41.292</td> <td> 0.000</td> <td>   -0.205</td> <td>   -0.187</td>\n",
       "</tr>\n",
       "<tr>\n",
       "  <th>Wind Bearing (degrees)</th> <td>    0.0032</td> <td>    0.000</td> <td>   12.367</td> <td> 0.000</td> <td>    0.003</td> <td>    0.004</td>\n",
       "</tr>\n",
       "<tr>\n",
       "  <th>Visibility (km)</th>        <td>    0.3329</td> <td>    0.009</td> <td>   38.665</td> <td> 0.000</td> <td>    0.316</td> <td>    0.350</td>\n",
       "</tr>\n",
       "<tr>\n",
       "  <th>Pressure (millibars)</th>   <td>   -0.0015</td> <td>    0.000</td> <td>   -6.281</td> <td> 0.000</td> <td>   -0.002</td> <td>   -0.001</td>\n",
       "</tr>\n",
       "<tr>\n",
       "  <th>Foggy</th>                  <td>   -2.5918</td> <td>    0.142</td> <td>  -18.312</td> <td> 0.000</td> <td>   -2.869</td> <td>   -2.314</td>\n",
       "</tr>\n",
       "<tr>\n",
       "  <th>Mostly Cloudy</th>          <td>   -0.1924</td> <td>    0.067</td> <td>   -2.883</td> <td> 0.004</td> <td>   -0.323</td> <td>   -0.062</td>\n",
       "</tr>\n",
       "<tr>\n",
       "  <th>Overcast</th>               <td>   -1.3797</td> <td>    0.086</td> <td>  -16.087</td> <td> 0.000</td> <td>   -1.548</td> <td>   -1.212</td>\n",
       "</tr>\n",
       "</table>\n",
       "<table class=\"simpletable\">\n",
       "<tr>\n",
       "  <th>Omnibus:</th>       <td>2566.712</td> <th>  Durbin-Watson:     </th> <td>   1.996</td>\n",
       "</tr>\n",
       "<tr>\n",
       "  <th>Prob(Omnibus):</th>  <td> 0.000</td>  <th>  Jarque-Bera (JB):  </th> <td>2901.580</td>\n",
       "</tr>\n",
       "<tr>\n",
       "  <th>Skew:</th>           <td>-0.486</td>  <th>  Prob(JB):          </th> <td>    0.00</td>\n",
       "</tr>\n",
       "<tr>\n",
       "  <th>Kurtosis:</th>       <td> 3.327</td>  <th>  Cond. No.          </th> <td>1.16e+04</td>\n",
       "</tr>\n",
       "</table><br/><br/>Notes:<br/>[1] Standard Errors assume that the covariance matrix of the errors is correctly specified.<br/>[2] The condition number is large, 1.16e+04. This might indicate that there are<br/>strong multicollinearity or other numerical problems."
      ],
      "text/plain": [
       "<class 'statsmodels.iolib.summary.Summary'>\n",
       "\"\"\"\n",
       "                            OLS Regression Results                            \n",
       "==============================================================================\n",
       "Dep. Variable:        Temperature (C)   R-squared:                       0.454\n",
       "Model:                            OLS   Adj. R-squared:                  0.454\n",
       "Method:                 Least Squares   F-statistic:                     6881.\n",
       "Date:                Tue, 14 Feb 2023   Prob (F-statistic):               0.00\n",
       "Time:                        13:40:24   Log-Likelihood:            -2.2321e+05\n",
       "No. Observations:               66123   AIC:                         4.464e+05\n",
       "Df Residuals:                   66114   BIC:                         4.465e+05\n",
       "Df Model:                           8                                         \n",
       "Covariance Type:            nonrobust                                         \n",
       "==========================================================================================\n",
       "                             coef    std err          t      P>|t|      [0.025      0.975]\n",
       "------------------------------------------------------------------------------------------\n",
       "const                     32.7199      0.299    109.509      0.000      32.134      33.305\n",
       "Humidity                 -28.2070      0.165   -170.907      0.000     -28.530     -27.883\n",
       "Wind Speed (km/h)         -0.1960      0.005    -41.292      0.000      -0.205      -0.187\n",
       "Wind Bearing (degrees)     0.0032      0.000     12.367      0.000       0.003       0.004\n",
       "Visibility (km)            0.3329      0.009     38.665      0.000       0.316       0.350\n",
       "Pressure (millibars)      -0.0015      0.000     -6.281      0.000      -0.002      -0.001\n",
       "Foggy                     -2.5918      0.142    -18.312      0.000      -2.869      -2.314\n",
       "Mostly Cloudy             -0.1924      0.067     -2.883      0.004      -0.323      -0.062\n",
       "Overcast                  -1.3797      0.086    -16.087      0.000      -1.548      -1.212\n",
       "==============================================================================\n",
       "Omnibus:                     2566.712   Durbin-Watson:                   1.996\n",
       "Prob(Omnibus):                  0.000   Jarque-Bera (JB):             2901.580\n",
       "Skew:                          -0.486   Prob(JB):                         0.00\n",
       "Kurtosis:                       3.327   Cond. No.                     1.16e+04\n",
       "==============================================================================\n",
       "\n",
       "Notes:\n",
       "[1] Standard Errors assume that the covariance matrix of the errors is correctly specified.\n",
       "[2] The condition number is large, 1.16e+04. This might indicate that there are\n",
       "strong multicollinearity or other numerical problems.\n",
       "\"\"\""
      ]
     },
     "execution_count": 63,
     "metadata": {},
     "output_type": "execute_result"
    }
   ],
   "source": [
    "model.summary()"
   ]
  },
  {
   "cell_type": "code",
   "execution_count": 64,
   "id": "f8a62a7a",
   "metadata": {},
   "outputs": [
    {
     "data": {
      "text/plain": [
       "count    94462.000000\n",
       "mean        11.945583\n",
       "std          9.575749\n",
       "min        -21.822222\n",
       "25%          4.561111\n",
       "50%         12.061111\n",
       "75%         18.844444\n",
       "max         39.905556\n",
       "Name: Temperature (C), dtype: float64"
      ]
     },
     "execution_count": 64,
     "metadata": {},
     "output_type": "execute_result"
    }
   ],
   "source": [
    "df_['Temperature (C)'].describe()"
   ]
  },
  {
   "cell_type": "code",
   "execution_count": 65,
   "id": "ce9c00aa",
   "metadata": {},
   "outputs": [
    {
     "data": {
      "text/plain": [
       "count    94462.000000\n",
       "mean         0.736691\n",
       "std          0.194835\n",
       "min          0.000000\n",
       "25%          0.610000\n",
       "50%          0.790000\n",
       "75%          0.900000\n",
       "max          1.000000\n",
       "Name: Humidity, dtype: float64"
      ]
     },
     "execution_count": 65,
     "metadata": {},
     "output_type": "execute_result"
    }
   ],
   "source": [
    "df_['Humidity'].describe()"
   ]
  },
  {
   "cell_type": "code",
   "execution_count": 67,
   "id": "950dd405",
   "metadata": {},
   "outputs": [
    {
     "data": {
      "text/plain": [
       "125      -1.307611\n",
       "83616    -3.145492\n",
       "86009    -6.665229\n",
       "36134     5.681707\n",
       "87165     7.430074\n",
       "           ...    \n",
       "89347    -6.115712\n",
       "86973    -2.850057\n",
       "9584      7.914014\n",
       "58771     3.142650\n",
       "3232    -11.258291\n",
       "Length: 66123, dtype: float64"
      ]
     },
     "execution_count": 67,
     "metadata": {},
     "output_type": "execute_result"
    }
   ],
   "source": [
    "model.resid"
   ]
  },
  {
   "cell_type": "code",
   "execution_count": 69,
   "id": "101ac207",
   "metadata": {},
   "outputs": [
    {
     "data": {
      "text/plain": [
       "50.066075521029816"
      ]
     },
     "execution_count": 69,
     "metadata": {},
     "output_type": "execute_result"
    }
   ],
   "source": [
    "sum(model.resid**2)/len(model.resid)"
   ]
  },
  {
   "cell_type": "code",
   "execution_count": 68,
   "id": "537401ee",
   "metadata": {},
   "outputs": [
    {
     "data": {
      "text/plain": [
       "50.072890941057445"
      ]
     },
     "execution_count": 68,
     "metadata": {},
     "output_type": "execute_result"
    }
   ],
   "source": [
    "model.mse_resid"
   ]
  },
  {
   "cell_type": "code",
   "execution_count": 70,
   "id": "5d6317b4",
   "metadata": {},
   "outputs": [],
   "source": [
    "from sklearn.linear_model import LinearRegression"
   ]
  },
  {
   "cell_type": "code",
   "execution_count": 72,
   "id": "570b47e2",
   "metadata": {},
   "outputs": [],
   "source": [
    "lm = LinearRegression().fit(X_train,y_train)"
   ]
  },
  {
   "cell_type": "code",
   "execution_count": 75,
   "id": "77e90279",
   "metadata": {},
   "outputs": [],
   "source": [
    "ypred = lm.predict(X_train)"
   ]
  },
  {
   "cell_type": "code",
   "execution_count": 77,
   "id": "8c957358",
   "metadata": {},
   "outputs": [
    {
     "data": {
      "text/plain": [
       "50.06607552103012"
      ]
     },
     "execution_count": 77,
     "metadata": {},
     "output_type": "execute_result"
    }
   ],
   "source": [
    "from sklearn.metrics import mean_squared_error\n",
    "mean_squared_error(ypred, y_train)"
   ]
  },
  {
   "cell_type": "code",
   "execution_count": 78,
   "id": "2a22c354",
   "metadata": {},
   "outputs": [],
   "source": [
    "yhat = model.predict(X_test)"
   ]
  },
  {
   "cell_type": "code",
   "execution_count": 79,
   "id": "03c073f1",
   "metadata": {},
   "outputs": [
    {
     "data": {
      "text/plain": [
       "49.528729274499476"
      ]
     },
     "execution_count": 79,
     "metadata": {},
     "output_type": "execute_result"
    }
   ],
   "source": [
    "mean_squared_error(yhat, y_test)"
   ]
  },
  {
   "cell_type": "code",
   "execution_count": 80,
   "id": "10a04f70",
   "metadata": {},
   "outputs": [
    {
     "data": {
      "text/html": [
       "<table class=\"simpletable\">\n",
       "<caption>OLS Regression Results</caption>\n",
       "<tr>\n",
       "  <th>Dep. Variable:</th>     <td>Temperature (C)</td> <th>  R-squared:         </th>  <td>   0.454</td>  \n",
       "</tr>\n",
       "<tr>\n",
       "  <th>Model:</th>                   <td>OLS</td>       <th>  Adj. R-squared:    </th>  <td>   0.454</td>  \n",
       "</tr>\n",
       "<tr>\n",
       "  <th>Method:</th>             <td>Least Squares</td>  <th>  F-statistic:       </th>  <td>   6881.</td>  \n",
       "</tr>\n",
       "<tr>\n",
       "  <th>Date:</th>             <td>Tue, 14 Feb 2023</td> <th>  Prob (F-statistic):</th>   <td>  0.00</td>   \n",
       "</tr>\n",
       "<tr>\n",
       "  <th>Time:</th>                 <td>13:50:42</td>     <th>  Log-Likelihood:    </th> <td>-2.2321e+05</td>\n",
       "</tr>\n",
       "<tr>\n",
       "  <th>No. Observations:</th>      <td> 66123</td>      <th>  AIC:               </th>  <td>4.464e+05</td> \n",
       "</tr>\n",
       "<tr>\n",
       "  <th>Df Residuals:</th>          <td> 66114</td>      <th>  BIC:               </th>  <td>4.465e+05</td> \n",
       "</tr>\n",
       "<tr>\n",
       "  <th>Df Model:</th>              <td>     8</td>      <th>                     </th>      <td> </td>     \n",
       "</tr>\n",
       "<tr>\n",
       "  <th>Covariance Type:</th>      <td>nonrobust</td>    <th>                     </th>      <td> </td>     \n",
       "</tr>\n",
       "</table>\n",
       "<table class=\"simpletable\">\n",
       "<tr>\n",
       "             <td></td>               <th>coef</th>     <th>std err</th>      <th>t</th>      <th>P>|t|</th>  <th>[0.025</th>    <th>0.975]</th>  \n",
       "</tr>\n",
       "<tr>\n",
       "  <th>const</th>                  <td>   32.7199</td> <td>    0.299</td> <td>  109.509</td> <td> 0.000</td> <td>   32.134</td> <td>   33.305</td>\n",
       "</tr>\n",
       "<tr>\n",
       "  <th>Humidity</th>               <td>  -28.2070</td> <td>    0.165</td> <td> -170.907</td> <td> 0.000</td> <td>  -28.530</td> <td>  -27.883</td>\n",
       "</tr>\n",
       "<tr>\n",
       "  <th>Wind Speed (km/h)</th>      <td>   -0.1960</td> <td>    0.005</td> <td>  -41.292</td> <td> 0.000</td> <td>   -0.205</td> <td>   -0.187</td>\n",
       "</tr>\n",
       "<tr>\n",
       "  <th>Wind Bearing (degrees)</th> <td>    0.0032</td> <td>    0.000</td> <td>   12.367</td> <td> 0.000</td> <td>    0.003</td> <td>    0.004</td>\n",
       "</tr>\n",
       "<tr>\n",
       "  <th>Visibility (km)</th>        <td>    0.3329</td> <td>    0.009</td> <td>   38.665</td> <td> 0.000</td> <td>    0.316</td> <td>    0.350</td>\n",
       "</tr>\n",
       "<tr>\n",
       "  <th>Pressure (millibars)</th>   <td>   -0.0015</td> <td>    0.000</td> <td>   -6.281</td> <td> 0.000</td> <td>   -0.002</td> <td>   -0.001</td>\n",
       "</tr>\n",
       "<tr>\n",
       "  <th>Foggy</th>                  <td>   -2.5918</td> <td>    0.142</td> <td>  -18.312</td> <td> 0.000</td> <td>   -2.869</td> <td>   -2.314</td>\n",
       "</tr>\n",
       "<tr>\n",
       "  <th>Mostly Cloudy</th>          <td>   -0.1924</td> <td>    0.067</td> <td>   -2.883</td> <td> 0.004</td> <td>   -0.323</td> <td>   -0.062</td>\n",
       "</tr>\n",
       "<tr>\n",
       "  <th>Overcast</th>               <td>   -1.3797</td> <td>    0.086</td> <td>  -16.087</td> <td> 0.000</td> <td>   -1.548</td> <td>   -1.212</td>\n",
       "</tr>\n",
       "</table>\n",
       "<table class=\"simpletable\">\n",
       "<tr>\n",
       "  <th>Omnibus:</th>       <td>2566.712</td> <th>  Durbin-Watson:     </th> <td>   1.996</td>\n",
       "</tr>\n",
       "<tr>\n",
       "  <th>Prob(Omnibus):</th>  <td> 0.000</td>  <th>  Jarque-Bera (JB):  </th> <td>2901.580</td>\n",
       "</tr>\n",
       "<tr>\n",
       "  <th>Skew:</th>           <td>-0.486</td>  <th>  Prob(JB):          </th> <td>    0.00</td>\n",
       "</tr>\n",
       "<tr>\n",
       "  <th>Kurtosis:</th>       <td> 3.327</td>  <th>  Cond. No.          </th> <td>1.16e+04</td>\n",
       "</tr>\n",
       "</table><br/><br/>Notes:<br/>[1] Standard Errors assume that the covariance matrix of the errors is correctly specified.<br/>[2] The condition number is large, 1.16e+04. This might indicate that there are<br/>strong multicollinearity or other numerical problems."
      ],
      "text/plain": [
       "<class 'statsmodels.iolib.summary.Summary'>\n",
       "\"\"\"\n",
       "                            OLS Regression Results                            \n",
       "==============================================================================\n",
       "Dep. Variable:        Temperature (C)   R-squared:                       0.454\n",
       "Model:                            OLS   Adj. R-squared:                  0.454\n",
       "Method:                 Least Squares   F-statistic:                     6881.\n",
       "Date:                Tue, 14 Feb 2023   Prob (F-statistic):               0.00\n",
       "Time:                        13:50:42   Log-Likelihood:            -2.2321e+05\n",
       "No. Observations:               66123   AIC:                         4.464e+05\n",
       "Df Residuals:                   66114   BIC:                         4.465e+05\n",
       "Df Model:                           8                                         \n",
       "Covariance Type:            nonrobust                                         \n",
       "==========================================================================================\n",
       "                             coef    std err          t      P>|t|      [0.025      0.975]\n",
       "------------------------------------------------------------------------------------------\n",
       "const                     32.7199      0.299    109.509      0.000      32.134      33.305\n",
       "Humidity                 -28.2070      0.165   -170.907      0.000     -28.530     -27.883\n",
       "Wind Speed (km/h)         -0.1960      0.005    -41.292      0.000      -0.205      -0.187\n",
       "Wind Bearing (degrees)     0.0032      0.000     12.367      0.000       0.003       0.004\n",
       "Visibility (km)            0.3329      0.009     38.665      0.000       0.316       0.350\n",
       "Pressure (millibars)      -0.0015      0.000     -6.281      0.000      -0.002      -0.001\n",
       "Foggy                     -2.5918      0.142    -18.312      0.000      -2.869      -2.314\n",
       "Mostly Cloudy             -0.1924      0.067     -2.883      0.004      -0.323      -0.062\n",
       "Overcast                  -1.3797      0.086    -16.087      0.000      -1.548      -1.212\n",
       "==============================================================================\n",
       "Omnibus:                     2566.712   Durbin-Watson:                   1.996\n",
       "Prob(Omnibus):                  0.000   Jarque-Bera (JB):             2901.580\n",
       "Skew:                          -0.486   Prob(JB):                         0.00\n",
       "Kurtosis:                       3.327   Cond. No.                     1.16e+04\n",
       "==============================================================================\n",
       "\n",
       "Notes:\n",
       "[1] Standard Errors assume that the covariance matrix of the errors is correctly specified.\n",
       "[2] The condition number is large, 1.16e+04. This might indicate that there are\n",
       "strong multicollinearity or other numerical problems.\n",
       "\"\"\""
      ]
     },
     "execution_count": 80,
     "metadata": {},
     "output_type": "execute_result"
    }
   ],
   "source": [
    "model.summary()"
   ]
  },
  {
   "cell_type": "code",
   "execution_count": 81,
   "id": "d2bd0afe",
   "metadata": {},
   "outputs": [],
   "source": [
    "import seaborn as sns"
   ]
  },
  {
   "cell_type": "code",
   "execution_count": 82,
   "id": "6cc5a7b0",
   "metadata": {},
   "outputs": [
    {
     "name": "stderr",
     "output_type": "stream",
     "text": [
      "/var/folders/hw/7q05z4zd6h99k8hlq1ws2wtr0000gq/T/ipykernel_37006/4017267088.py:1: UserWarning: \n",
      "\n",
      "`distplot` is a deprecated function and will be removed in seaborn v0.14.0.\n",
      "\n",
      "Please adapt your code to use either `displot` (a figure-level function with\n",
      "similar flexibility) or `histplot` (an axes-level function for histograms).\n",
      "\n",
      "For a guide to updating your code to use the new functions, please see\n",
      "https://gist.github.com/mwaskom/de44147ed2974457ad6372750bbe5751\n",
      "\n",
      "  sns.distplot(df['Humidity'])\n"
     ]
    },
    {
     "data": {
      "text/plain": [
       "<AxesSubplot: xlabel='Humidity', ylabel='Density'>"
      ]
     },
     "execution_count": 82,
     "metadata": {},
     "output_type": "execute_result"
    },
    {
     "data": {
      "image/png": "[encoded data removed]",
      "text/plain": [
       "<Figure size 640x480 with 1 Axes>"
      ]
     },
     "metadata": {},
     "output_type": "display_data"
    }
   ],
   "source": [
    "sns.distplot(df['Humidity'])"
   ]
  },
  {
   "cell_type": "code",
   "execution_count": 83,
   "id": "e1b58293",
   "metadata": {},
   "outputs": [
    {
     "name": "stderr",
     "output_type": "stream",
     "text": [
      "/var/folders/hw/7q05z4zd6h99k8hlq1ws2wtr0000gq/T/ipykernel_37006/3013690657.py:1: UserWarning: \n",
      "\n",
      "`distplot` is a deprecated function and will be removed in seaborn v0.14.0.\n",
      "\n",
      "Please adapt your code to use either `displot` (a figure-level function with\n",
      "similar flexibility) or `histplot` (an axes-level function for histograms).\n",
      "\n",
      "For a guide to updating your code to use the new functions, please see\n",
      "https://gist.github.com/mwaskom/de44147ed2974457ad6372750bbe5751\n",
      "\n",
      "  sns.distplot(df['Temperature (C)'])\n"
     ]
    },
    {
     "data": {
      "text/plain": [
       "<AxesSubplot: xlabel='Temperature (C)', ylabel='Density'>"
      ]
     },
     "execution_count": 83,
     "metadata": {},
     "output_type": "execute_result"
    },
    {
     "data": {
      "image/png": "[encoded data removed]",
      "text/plain": [
       "<Figure size 640x480 with 1 Axes>"
      ]
     },
     "metadata": {},
     "output_type": "display_data"
    }
   ],
   "source": [
    "sns.distplot(df['Temperature (C)'])"
   ]
  },
  {
   "cell_type": "code",
   "execution_count": 84,
   "id": "5d45a9b4",
   "metadata": {},
   "outputs": [
    {
     "name": "stderr",
     "output_type": "stream",
     "text": [
      "/var/folders/hw/7q05z4zd6h99k8hlq1ws2wtr0000gq/T/ipykernel_37006/3148728218.py:1: UserWarning: \n",
      "\n",
      "`distplot` is a deprecated function and will be removed in seaborn v0.14.0.\n",
      "\n",
      "Please adapt your code to use either `displot` (a figure-level function with\n",
      "similar flexibility) or `histplot` (an axes-level function for histograms).\n",
      "\n",
      "For a guide to updating your code to use the new functions, please see\n",
      "https://gist.github.com/mwaskom/de44147ed2974457ad6372750bbe5751\n",
      "\n",
      "  sns.distplot(df['Visibility (km)'])\n"
     ]
    },
    {
     "data": {
      "text/plain": [
       "<AxesSubplot: xlabel='Visibility (km)', ylabel='Density'>"
      ]
     },
     "execution_count": 84,
     "metadata": {},
     "output_type": "execute_result"
    },
    {
     "data": {
      "image/png": "[encoded data removed]",
      "text/plain": [
       "<Figure size 640x480 with 1 Axes>"
      ]
     },
     "metadata": {},
     "output_type": "display_data"
    }
   ],
   "source": [
    "sns.distplot(df['Visibility (km)'])"
   ]
  },
  {
   "cell_type": "code",
   "execution_count": 86,
   "id": "ca21be6c",
   "metadata": {},
   "outputs": [],
   "source": [
    "from sklearn.preprocessing import PolynomialFeatures"
   ]
  },
  {
   "cell_type": "code",
   "execution_count": 107,
   "id": "fc77b957",
   "metadata": {},
   "outputs": [],
   "source": [
    "X_poly = df_.iloc[:, 1:-4]"
   ]
  },
  {
   "cell_type": "code",
   "execution_count": 108,
   "id": "1bcb37ad",
   "metadata": {},
   "outputs": [
    {
     "data": {
      "text/html": [
       "<div>\n",
       "<style scoped>\n",
       "    .dataframe tbody tr th:only-of-type {\n",
       "        vertical-align: middle;\n",
       "    }\n",
       "\n",
       "    .dataframe tbody tr th {\n",
       "        vertical-align: top;\n",
       "    }\n",
       "\n",
       "    .dataframe thead th {\n",
       "        text-align: right;\n",
       "    }\n",
       "</style>\n",
       "<table border=\"1\" class=\"dataframe\">\n",
       "  <thead>\n",
       "    <tr style=\"text-align: right;\">\n",
       "      <th></th>\n",
       "      <th>Humidity</th>\n",
       "      <th>Wind Speed (km/h)</th>\n",
       "      <th>Wind Bearing (degrees)</th>\n",
       "      <th>Visibility (km)</th>\n",
       "      <th>Pressure (millibars)</th>\n",
       "    </tr>\n",
       "  </thead>\n",
       "  <tbody>\n",
       "    <tr>\n",
       "      <th>0</th>\n",
       "      <td>0.89</td>\n",
       "      <td>14.1197</td>\n",
       "      <td>251.0</td>\n",
       "      <td>15.8263</td>\n",
       "      <td>1015.13</td>\n",
       "    </tr>\n",
       "    <tr>\n",
       "      <th>1</th>\n",
       "      <td>0.86</td>\n",
       "      <td>14.2646</td>\n",
       "      <td>259.0</td>\n",
       "      <td>15.8263</td>\n",
       "      <td>1015.63</td>\n",
       "    </tr>\n",
       "    <tr>\n",
       "      <th>2</th>\n",
       "      <td>0.89</td>\n",
       "      <td>3.9284</td>\n",
       "      <td>204.0</td>\n",
       "      <td>14.9569</td>\n",
       "      <td>1015.94</td>\n",
       "    </tr>\n",
       "    <tr>\n",
       "      <th>3</th>\n",
       "      <td>0.83</td>\n",
       "      <td>14.1036</td>\n",
       "      <td>269.0</td>\n",
       "      <td>15.8263</td>\n",
       "      <td>1016.41</td>\n",
       "    </tr>\n",
       "    <tr>\n",
       "      <th>4</th>\n",
       "      <td>0.83</td>\n",
       "      <td>11.0446</td>\n",
       "      <td>259.0</td>\n",
       "      <td>15.8263</td>\n",
       "      <td>1016.51</td>\n",
       "    </tr>\n",
       "    <tr>\n",
       "      <th>...</th>\n",
       "      <td>...</td>\n",
       "      <td>...</td>\n",
       "      <td>...</td>\n",
       "      <td>...</td>\n",
       "      <td>...</td>\n",
       "    </tr>\n",
       "    <tr>\n",
       "      <th>96448</th>\n",
       "      <td>0.43</td>\n",
       "      <td>10.9963</td>\n",
       "      <td>31.0</td>\n",
       "      <td>16.1000</td>\n",
       "      <td>1014.36</td>\n",
       "    </tr>\n",
       "    <tr>\n",
       "      <th>96449</th>\n",
       "      <td>0.48</td>\n",
       "      <td>10.0947</td>\n",
       "      <td>20.0</td>\n",
       "      <td>15.5526</td>\n",
       "      <td>1015.16</td>\n",
       "    </tr>\n",
       "    <tr>\n",
       "      <th>96450</th>\n",
       "      <td>0.56</td>\n",
       "      <td>8.9838</td>\n",
       "      <td>30.0</td>\n",
       "      <td>16.1000</td>\n",
       "      <td>1015.66</td>\n",
       "    </tr>\n",
       "    <tr>\n",
       "      <th>96451</th>\n",
       "      <td>0.60</td>\n",
       "      <td>10.5294</td>\n",
       "      <td>20.0</td>\n",
       "      <td>16.1000</td>\n",
       "      <td>1015.95</td>\n",
       "    </tr>\n",
       "    <tr>\n",
       "      <th>96452</th>\n",
       "      <td>0.61</td>\n",
       "      <td>5.8765</td>\n",
       "      <td>39.0</td>\n",
       "      <td>15.5204</td>\n",
       "      <td>1016.16</td>\n",
       "    </tr>\n",
       "  </tbody>\n",
       "</table>\n",
       "<p>94462 rows × 5 columns</p>\n",
       "</div>"
      ],
      "text/plain": [
       "       Humidity  Wind Speed (km/h)  Wind Bearing (degrees)  Visibility (km)  \\\n",
       "0          0.89            14.1197                   251.0          15.8263   \n",
       "1          0.86            14.2646                   259.0          15.8263   \n",
       "2          0.89             3.9284                   204.0          14.9569   \n",
       "3          0.83            14.1036                   269.0          15.8263   \n",
       "4          0.83            11.0446                   259.0          15.8263   \n",
       "...         ...                ...                     ...              ...   \n",
       "96448      0.43            10.9963                    31.0          16.1000   \n",
       "96449      0.48            10.0947                    20.0          15.5526   \n",
       "96450      0.56             8.9838                    30.0          16.1000   \n",
       "96451      0.60            10.5294                    20.0          16.1000   \n",
       "96452      0.61             5.8765                    39.0          15.5204   \n",
       "\n",
       "       Pressure (millibars)  \n",
       "0                   1015.13  \n",
       "1                   1015.63  \n",
       "2                   1015.94  \n",
       "3                   1016.41  \n",
       "4                   1016.51  \n",
       "...                     ...  \n",
       "96448               1014.36  \n",
       "96449               1015.16  \n",
       "96450               1015.66  \n",
       "96451               1015.95  \n",
       "96452               1016.16  \n",
       "\n",
       "[94462 rows x 5 columns]"
      ]
     },
     "execution_count": 108,
     "metadata": {},
     "output_type": "execute_result"
    }
   ],
   "source": [
    "X_poly"
   ]
  },
  {
   "cell_type": "code",
   "execution_count": 109,
   "id": "83f03ec5",
   "metadata": {},
   "outputs": [],
   "source": [
    "poly = PolynomialFeatures(3)"
   ]
  },
  {
   "cell_type": "code",
   "execution_count": 110,
   "id": "c9c5eaeb",
   "metadata": {},
   "outputs": [
    {
     "data": {
      "text/plain": [
       "(94462, 56)"
      ]
     },
     "execution_count": 110,
     "metadata": {},
     "output_type": "execute_result"
    }
   ],
   "source": [
    "X_poly = poly.fit_transform(X_poly)\n",
    "X_poly.shape"
   ]
  },
  {
   "cell_type": "code",
   "execution_count": 112,
   "id": "3c7aad5a",
   "metadata": {},
   "outputs": [
    {
     "data": {
      "text/plain": [
       "(94462, 56)"
      ]
     },
     "execution_count": 112,
     "metadata": {},
     "output_type": "execute_result"
    }
   ],
   "source": [
    "X_poly.shape"
   ]
  },
  {
   "cell_type": "code",
   "execution_count": 115,
   "id": "6fa66920",
   "metadata": {},
   "outputs": [],
   "source": [
    "X_dummies = df_.iloc[:, -4:].to_numpy()"
   ]
  },
  {
   "cell_type": "code",
   "execution_count": 126,
   "id": "a66fc547",
   "metadata": {},
   "outputs": [],
   "source": [
    "X_poly_ = np.concatenate([X_poly, X_dummies], axis=1)"
   ]
  },
  {
   "cell_type": "code",
   "execution_count": 127,
   "id": "d214eeed",
   "metadata": {},
   "outputs": [
    {
     "data": {
      "text/plain": [
       "(94462, 60)"
      ]
     },
     "execution_count": 127,
     "metadata": {},
     "output_type": "execute_result"
    }
   ],
   "source": [
    "X_poly_.shape"
   ]
  },
  {
   "cell_type": "code",
   "execution_count": 123,
   "id": "5b928072",
   "metadata": {},
   "outputs": [
    {
     "data": {
      "text/plain": [
       "(94462, 4)"
      ]
     },
     "execution_count": 123,
     "metadata": {},
     "output_type": "execute_result"
    }
   ],
   "source": [
    "X_dummies.shape"
   ]
  },
  {
   "cell_type": "code",
   "execution_count": 133,
   "id": "23738b83",
   "metadata": {},
   "outputs": [
    {
     "data": {
      "text/plain": [
       "numpy.ndarray"
      ]
     },
     "execution_count": 133,
     "metadata": {},
     "output_type": "execute_result"
    }
   ],
   "source": [
    "type(X_poly)"
   ]
  },
  {
   "cell_type": "code",
   "execution_count": 130,
   "id": "64c7f94b",
   "metadata": {},
   "outputs": [],
   "source": [
    "model_poly = sm.OLS(df_.iloc[:, 0], X_poly_).fit()"
   ]
  },
  {
   "cell_type": "code",
   "execution_count": 134,
   "id": "b408fcfd",
   "metadata": {},
   "outputs": [
    {
     "data": {
      "text/plain": [
       "array([[ 1.    ,  0.89  , 14.1197, ...,  0.    ,  0.    ,  1.    ],\n",
       "       [ 1.    ,  0.86  , 14.2646, ...,  0.    ,  0.    ,  1.    ],\n",
       "       [ 1.    ,  0.89  ,  3.9284, ...,  1.    ,  0.    ,  0.    ],\n",
       "       ...,\n",
       "       [ 1.    ,  0.56  ,  8.9838, ...,  0.    ,  0.    ,  1.    ],\n",
       "       [ 1.    ,  0.6   , 10.5294, ...,  0.    ,  0.    ,  1.    ],\n",
       "       [ 1.    ,  0.61  ,  5.8765, ...,  0.    ,  0.    ,  1.    ]])"
      ]
     },
     "execution_count": 134,
     "metadata": {},
     "output_type": "execute_result"
    }
   ],
   "source": []
  },
  {
   "cell_type": "code",
   "execution_count": 131,
   "id": "1a0eaa32",
   "metadata": {
    "scrolled": false
   },
   "outputs": [
    {
     "data": {
      "text/html": [
       "<table class=\"simpletable\">\n",
       "<caption>OLS Regression Results</caption>\n",
       "<tr>\n",
       "  <th>Dep. Variable:</th>     <td>Temperature (C)</td> <th>  R-squared:         </th>  <td>   0.619</td>  \n",
       "</tr>\n",
       "<tr>\n",
       "  <th>Model:</th>                   <td>OLS</td>       <th>  Adj. R-squared:    </th>  <td>   0.618</td>  \n",
       "</tr>\n",
       "<tr>\n",
       "  <th>Method:</th>             <td>Least Squares</td>  <th>  F-statistic:       </th>  <td>   2595.</td>  \n",
       "</tr>\n",
       "<tr>\n",
       "  <th>Date:</th>             <td>Tue, 14 Feb 2023</td> <th>  Prob (F-statistic):</th>   <td>  0.00</td>   \n",
       "</tr>\n",
       "<tr>\n",
       "  <th>Time:</th>                 <td>14:06:07</td>     <th>  Log-Likelihood:    </th> <td>-3.0192e+05</td>\n",
       "</tr>\n",
       "<tr>\n",
       "  <th>No. Observations:</th>      <td> 94462</td>      <th>  AIC:               </th>  <td>6.040e+05</td> \n",
       "</tr>\n",
       "<tr>\n",
       "  <th>Df Residuals:</th>          <td> 94402</td>      <th>  BIC:               </th>  <td>6.045e+05</td> \n",
       "</tr>\n",
       "<tr>\n",
       "  <th>Df Model:</th>              <td>    59</td>      <th>                     </th>      <td> </td>     \n",
       "</tr>\n",
       "<tr>\n",
       "  <th>Covariance Type:</th>      <td>nonrobust</td>    <th>                     </th>      <td> </td>     \n",
       "</tr>\n",
       "</table>\n",
       "<table class=\"simpletable\">\n",
       "<tr>\n",
       "    <td></td>       <th>coef</th>     <th>std err</th>      <th>t</th>      <th>P>|t|</th>  <th>[0.025</th>    <th>0.975]</th>  \n",
       "</tr>\n",
       "<tr>\n",
       "  <th>const</th> <td>   -0.5787</td> <td>    4.809</td> <td>   -0.120</td> <td> 0.904</td> <td>  -10.004</td> <td>    8.846</td>\n",
       "</tr>\n",
       "<tr>\n",
       "  <th>x1</th>    <td>   74.3929</td> <td>    9.946</td> <td>    7.480</td> <td> 0.000</td> <td>   54.900</td> <td>   93.886</td>\n",
       "</tr>\n",
       "<tr>\n",
       "  <th>x2</th>    <td>    1.1478</td> <td>    0.221</td> <td>    5.197</td> <td> 0.000</td> <td>    0.715</td> <td>    1.581</td>\n",
       "</tr>\n",
       "<tr>\n",
       "  <th>x3</th>    <td>    0.1597</td> <td>    0.013</td> <td>   12.484</td> <td> 0.000</td> <td>    0.135</td> <td>    0.185</td>\n",
       "</tr>\n",
       "<tr>\n",
       "  <th>x4</th>    <td>    1.8757</td> <td>    0.404</td> <td>    4.648</td> <td> 0.000</td> <td>    1.085</td> <td>    2.667</td>\n",
       "</tr>\n",
       "<tr>\n",
       "  <th>x5</th>    <td>  -14.5170</td> <td>    0.236</td> <td>  -61.433</td> <td> 0.000</td> <td>  -14.980</td> <td>  -14.054</td>\n",
       "</tr>\n",
       "<tr>\n",
       "  <th>x6</th>    <td> -182.4234</td> <td>    7.893</td> <td>  -23.112</td> <td> 0.000</td> <td> -197.894</td> <td> -166.953</td>\n",
       "</tr>\n",
       "<tr>\n",
       "  <th>x7</th>    <td>   -2.3399</td> <td>    0.246</td> <td>   -9.503</td> <td> 0.000</td> <td>   -2.822</td> <td>   -1.857</td>\n",
       "</tr>\n",
       "<tr>\n",
       "  <th>x8</th>    <td>   -0.1406</td> <td>    0.014</td> <td>  -10.257</td> <td> 0.000</td> <td>   -0.167</td> <td>   -0.114</td>\n",
       "</tr>\n",
       "<tr>\n",
       "  <th>x9</th>    <td>   -2.3916</td> <td>    0.491</td> <td>   -4.867</td> <td> 0.000</td> <td>   -3.355</td> <td>   -1.428</td>\n",
       "</tr>\n",
       "<tr>\n",
       "  <th>x10</th>   <td>   -0.2821</td> <td>    0.020</td> <td>  -13.774</td> <td> 0.000</td> <td>   -0.322</td> <td>   -0.242</td>\n",
       "</tr>\n",
       "<tr>\n",
       "  <th>x11</th>   <td>   -0.0348</td> <td>    0.005</td> <td>   -6.975</td> <td> 0.000</td> <td>   -0.045</td> <td>   -0.025</td>\n",
       "</tr>\n",
       "<tr>\n",
       "  <th>x12</th>   <td>   -0.0006</td> <td>    0.000</td> <td>   -1.686</td> <td> 0.092</td> <td>   -0.001</td> <td> 9.21e-05</td>\n",
       "</tr>\n",
       "<tr>\n",
       "  <th>x13</th>   <td>   -0.0240</td> <td>    0.011</td> <td>   -2.143</td> <td> 0.032</td> <td>   -0.046</td> <td>   -0.002</td>\n",
       "</tr>\n",
       "<tr>\n",
       "  <th>x14</th>   <td>   -0.0047</td> <td>    0.001</td> <td>   -8.893</td> <td> 0.000</td> <td>   -0.006</td> <td>   -0.004</td>\n",
       "</tr>\n",
       "<tr>\n",
       "  <th>x15</th>   <td>   -0.0005</td> <td> 2.35e-05</td> <td>  -21.456</td> <td> 0.000</td> <td>   -0.001</td> <td>   -0.000</td>\n",
       "</tr>\n",
       "<tr>\n",
       "  <th>x16</th>   <td>   -0.0033</td> <td>    0.001</td> <td>   -5.115</td> <td> 0.000</td> <td>   -0.005</td> <td>   -0.002</td>\n",
       "</tr>\n",
       "<tr>\n",
       "  <th>x17</th>   <td>-6.878e-05</td> <td> 2.83e-05</td> <td>   -2.432</td> <td> 0.015</td> <td>   -0.000</td> <td>-1.33e-05</td>\n",
       "</tr>\n",
       "<tr>\n",
       "  <th>x18</th>   <td>    0.0876</td> <td>    0.023</td> <td>    3.877</td> <td> 0.000</td> <td>    0.043</td> <td>    0.132</td>\n",
       "</tr>\n",
       "<tr>\n",
       "  <th>x19</th>   <td>    0.0223</td> <td>    0.001</td> <td>   27.507</td> <td> 0.000</td> <td>    0.021</td> <td>    0.024</td>\n",
       "</tr>\n",
       "<tr>\n",
       "  <th>x20</th>   <td>    0.0290</td> <td>    0.000</td> <td>   63.351</td> <td> 0.000</td> <td>    0.028</td> <td>    0.030</td>\n",
       "</tr>\n",
       "<tr>\n",
       "  <th>x21</th>   <td>  115.7456</td> <td>    2.784</td> <td>   41.570</td> <td> 0.000</td> <td>  110.288</td> <td>  121.203</td>\n",
       "</tr>\n",
       "<tr>\n",
       "  <th>x22</th>   <td>    0.8950</td> <td>    0.098</td> <td>    9.115</td> <td> 0.000</td> <td>    0.703</td> <td>    1.087</td>\n",
       "</tr>\n",
       "<tr>\n",
       "  <th>x23</th>   <td>    0.0290</td> <td>    0.005</td> <td>    5.319</td> <td> 0.000</td> <td>    0.018</td> <td>    0.040</td>\n",
       "</tr>\n",
       "<tr>\n",
       "  <th>x24</th>   <td>    0.2985</td> <td>    0.180</td> <td>    1.659</td> <td> 0.097</td> <td>   -0.054</td> <td>    0.651</td>\n",
       "</tr>\n",
       "<tr>\n",
       "  <th>x25</th>   <td>   -0.0288</td> <td>    0.005</td> <td>   -5.710</td> <td> 0.000</td> <td>   -0.039</td> <td>   -0.019</td>\n",
       "</tr>\n",
       "<tr>\n",
       "  <th>x26</th>   <td>    0.0442</td> <td>    0.002</td> <td>   18.439</td> <td> 0.000</td> <td>    0.040</td> <td>    0.049</td>\n",
       "</tr>\n",
       "<tr>\n",
       "  <th>x27</th>   <td>    0.0003</td> <td>    0.000</td> <td>    1.759</td> <td> 0.079</td> <td>-3.41e-05</td> <td>    0.001</td>\n",
       "</tr>\n",
       "<tr>\n",
       "  <th>x28</th>   <td>   -0.0051</td> <td>    0.007</td> <td>   -0.744</td> <td> 0.457</td> <td>   -0.018</td> <td>    0.008</td>\n",
       "</tr>\n",
       "<tr>\n",
       "  <th>x29</th>   <td> 4.442e-05</td> <td>    0.000</td> <td>    0.264</td> <td> 0.792</td> <td>   -0.000</td> <td>    0.000</td>\n",
       "</tr>\n",
       "<tr>\n",
       "  <th>x30</th>   <td>    0.0002</td> <td> 1.06e-05</td> <td>   23.088</td> <td> 0.000</td> <td>    0.000</td> <td>    0.000</td>\n",
       "</tr>\n",
       "<tr>\n",
       "  <th>x31</th>   <td>    0.0018</td> <td>    0.000</td> <td>    4.778</td> <td> 0.000</td> <td>    0.001</td> <td>    0.003</td>\n",
       "</tr>\n",
       "<tr>\n",
       "  <th>x32</th>   <td>-1.022e-05</td> <td> 9.57e-06</td> <td>   -1.067</td> <td> 0.286</td> <td> -2.9e-05</td> <td> 8.55e-06</td>\n",
       "</tr>\n",
       "<tr>\n",
       "  <th>x33</th>   <td>    0.0715</td> <td>    0.010</td> <td>    6.808</td> <td> 0.000</td> <td>    0.051</td> <td>    0.092</td>\n",
       "</tr>\n",
       "<tr>\n",
       "  <th>x34</th>   <td> 6.749e-05</td> <td>    0.000</td> <td>    0.189</td> <td> 0.850</td> <td>   -0.001</td> <td>    0.001</td>\n",
       "</tr>\n",
       "<tr>\n",
       "  <th>x35</th>   <td>    0.0003</td> <td>  1.8e-05</td> <td>   17.672</td> <td> 0.000</td> <td>    0.000</td> <td>    0.000</td>\n",
       "</tr>\n",
       "<tr>\n",
       "  <th>x36</th>   <td>    0.0003</td> <td> 5.67e-05</td> <td>    4.635</td> <td> 0.000</td> <td>    0.000</td> <td>    0.000</td>\n",
       "</tr>\n",
       "<tr>\n",
       "  <th>x37</th>   <td> 8.732e-06</td> <td>  3.7e-06</td> <td>    2.358</td> <td> 0.018</td> <td> 1.47e-06</td> <td>  1.6e-05</td>\n",
       "</tr>\n",
       "<tr>\n",
       "  <th>x38</th>   <td>-6.319e-05</td> <td>    0.000</td> <td>   -0.521</td> <td> 0.603</td> <td>   -0.000</td> <td>    0.000</td>\n",
       "</tr>\n",
       "<tr>\n",
       "  <th>x39</th>   <td>-9.161e-06</td> <td> 3.49e-06</td> <td>   -2.626</td> <td> 0.009</td> <td> -1.6e-05</td> <td>-2.32e-06</td>\n",
       "</tr>\n",
       "<tr>\n",
       "  <th>x40</th>   <td> 1.099e-06</td> <td> 3.14e-07</td> <td>    3.504</td> <td> 0.000</td> <td> 4.84e-07</td> <td> 1.71e-06</td>\n",
       "</tr>\n",
       "<tr>\n",
       "  <th>x41</th>   <td>-1.335e-05</td> <td> 8.07e-06</td> <td>   -1.655</td> <td> 0.098</td> <td>-2.92e-05</td> <td> 2.46e-06</td>\n",
       "</tr>\n",
       "<tr>\n",
       "  <th>x42</th>   <td> 2.028e-07</td> <td> 2.47e-07</td> <td>    0.820</td> <td> 0.412</td> <td>-2.82e-07</td> <td> 6.88e-07</td>\n",
       "</tr>\n",
       "<tr>\n",
       "  <th>x43</th>   <td>    0.0002</td> <td>    0.000</td> <td>    0.830</td> <td> 0.407</td> <td>   -0.000</td> <td>    0.001</td>\n",
       "</tr>\n",
       "<tr>\n",
       "  <th>x44</th>   <td> 1.123e-05</td> <td> 8.09e-06</td> <td>    1.387</td> <td> 0.165</td> <td>-4.64e-06</td> <td> 2.71e-05</td>\n",
       "</tr>\n",
       "<tr>\n",
       "  <th>x45</th>   <td> 4.725e-06</td> <td> 4.81e-07</td> <td>    9.821</td> <td> 0.000</td> <td> 3.78e-06</td> <td> 5.67e-06</td>\n",
       "</tr>\n",
       "<tr>\n",
       "  <th>x46</th>   <td> 2.667e-07</td> <td> 2.27e-08</td> <td>   11.737</td> <td> 0.000</td> <td> 2.22e-07</td> <td> 3.11e-07</td>\n",
       "</tr>\n",
       "<tr>\n",
       "  <th>x47</th>   <td> 6.708e-06</td> <td> 4.74e-07</td> <td>   14.164</td> <td> 0.000</td> <td> 5.78e-06</td> <td> 7.64e-06</td>\n",
       "</tr>\n",
       "<tr>\n",
       "  <th>x48</th>   <td>  1.44e-07</td> <td> 1.66e-08</td> <td>    8.650</td> <td> 0.000</td> <td> 1.11e-07</td> <td> 1.77e-07</td>\n",
       "</tr>\n",
       "<tr>\n",
       "  <th>x49</th>   <td>  4.22e-05</td> <td> 1.16e-05</td> <td>    3.626</td> <td> 0.000</td> <td> 1.94e-05</td> <td>  6.5e-05</td>\n",
       "</tr>\n",
       "<tr>\n",
       "  <th>x50</th>   <td>-1.507e-06</td> <td>  4.7e-07</td> <td>   -3.210</td> <td> 0.001</td> <td>-2.43e-06</td> <td>-5.87e-07</td>\n",
       "</tr>\n",
       "<tr>\n",
       "  <th>x51</th>   <td> 3.954e-08</td> <td> 2.52e-08</td> <td>    1.567</td> <td> 0.117</td> <td>-9.92e-09</td> <td>  8.9e-08</td>\n",
       "</tr>\n",
       "<tr>\n",
       "  <th>x52</th>   <td>   -0.0065</td> <td>    0.000</td> <td>  -19.270</td> <td> 0.000</td> <td>   -0.007</td> <td>   -0.006</td>\n",
       "</tr>\n",
       "<tr>\n",
       "  <th>x53</th>   <td>-2.048e-05</td> <td> 1.84e-05</td> <td>   -1.116</td> <td> 0.265</td> <td>-5.65e-05</td> <td> 1.55e-05</td>\n",
       "</tr>\n",
       "<tr>\n",
       "  <th>x54</th>   <td>-2.168e-05</td> <td> 7.06e-07</td> <td>  -30.699</td> <td> 0.000</td> <td>-2.31e-05</td> <td>-2.03e-05</td>\n",
       "</tr>\n",
       "<tr>\n",
       "  <th>x55</th>   <td>-1.447e-05</td> <td> 2.22e-07</td> <td>  -65.235</td> <td> 0.000</td> <td>-1.49e-05</td> <td> -1.4e-05</td>\n",
       "</tr>\n",
       "<tr>\n",
       "  <th>x56</th>   <td>   -1.7134</td> <td>    0.162</td> <td>  -10.562</td> <td> 0.000</td> <td>   -2.031</td> <td>   -1.395</td>\n",
       "</tr>\n",
       "<tr>\n",
       "  <th>x57</th>   <td>   -0.1932</td> <td>    0.071</td> <td>   -2.724</td> <td> 0.006</td> <td>   -0.332</td> <td>   -0.054</td>\n",
       "</tr>\n",
       "<tr>\n",
       "  <th>x58</th>   <td>   -1.3996</td> <td>    0.080</td> <td>  -17.437</td> <td> 0.000</td> <td>   -1.557</td> <td>   -1.242</td>\n",
       "</tr>\n",
       "<tr>\n",
       "  <th>x59</th>   <td>    0.6591</td> <td>    0.069</td> <td>    9.568</td> <td> 0.000</td> <td>    0.524</td> <td>    0.794</td>\n",
       "</tr>\n",
       "</table>\n",
       "<table class=\"simpletable\">\n",
       "<tr>\n",
       "  <th>Omnibus:</th>       <td>2437.790</td> <th>  Durbin-Watson:     </th> <td>   0.139</td>\n",
       "</tr>\n",
       "<tr>\n",
       "  <th>Prob(Omnibus):</th>  <td> 0.000</td>  <th>  Jarque-Bera (JB):  </th> <td>2629.692</td>\n",
       "</tr>\n",
       "<tr>\n",
       "  <th>Skew:</th>           <td>-0.406</td>  <th>  Prob(JB):          </th> <td>    0.00</td>\n",
       "</tr>\n",
       "<tr>\n",
       "  <th>Kurtosis:</th>       <td> 3.099</td>  <th>  Cond. No.          </th> <td>7.12e+11</td>\n",
       "</tr>\n",
       "</table><br/><br/>Notes:<br/>[1] Standard Errors assume that the covariance matrix of the errors is correctly specified.<br/>[2] The condition number is large, 7.12e+11. This might indicate that there are<br/>strong multicollinearity or other numerical problems."
      ],
      "text/plain": [
       "<class 'statsmodels.iolib.summary.Summary'>\n",
       "\"\"\"\n",
       "                            OLS Regression Results                            \n",
       "==============================================================================\n",
       "Dep. Variable:        Temperature (C)   R-squared:                       0.619\n",
       "Model:                            OLS   Adj. R-squared:                  0.618\n",
       "Method:                 Least Squares   F-statistic:                     2595.\n",
       "Date:                Tue, 14 Feb 2023   Prob (F-statistic):               0.00\n",
       "Time:                        14:06:07   Log-Likelihood:            -3.0192e+05\n",
       "No. Observations:               94462   AIC:                         6.040e+05\n",
       "Df Residuals:                   94402   BIC:                         6.045e+05\n",
       "Df Model:                          59                                         \n",
       "Covariance Type:            nonrobust                                         \n",
       "==============================================================================\n",
       "                 coef    std err          t      P>|t|      [0.025      0.975]\n",
       "------------------------------------------------------------------------------\n",
       "const         -0.5787      4.809     -0.120      0.904     -10.004       8.846\n",
       "x1            74.3929      9.946      7.480      0.000      54.900      93.886\n",
       "x2             1.1478      0.221      5.197      0.000       0.715       1.581\n",
       "x3             0.1597      0.013     12.484      0.000       0.135       0.185\n",
       "x4             1.8757      0.404      4.648      0.000       1.085       2.667\n",
       "x5           -14.5170      0.236    -61.433      0.000     -14.980     -14.054\n",
       "x6          -182.4234      7.893    -23.112      0.000    -197.894    -166.953\n",
       "x7            -2.3399      0.246     -9.503      0.000      -2.822      -1.857\n",
       "x8            -0.1406      0.014    -10.257      0.000      -0.167      -0.114\n",
       "x9            -2.3916      0.491     -4.867      0.000      -3.355      -1.428\n",
       "x10           -0.2821      0.020    -13.774      0.000      -0.322      -0.242\n",
       "x11           -0.0348      0.005     -6.975      0.000      -0.045      -0.025\n",
       "x12           -0.0006      0.000     -1.686      0.092      -0.001    9.21e-05\n",
       "x13           -0.0240      0.011     -2.143      0.032      -0.046      -0.002\n",
       "x14           -0.0047      0.001     -8.893      0.000      -0.006      -0.004\n",
       "x15           -0.0005   2.35e-05    -21.456      0.000      -0.001      -0.000\n",
       "x16           -0.0033      0.001     -5.115      0.000      -0.005      -0.002\n",
       "x17        -6.878e-05   2.83e-05     -2.432      0.015      -0.000   -1.33e-05\n",
       "x18            0.0876      0.023      3.877      0.000       0.043       0.132\n",
       "x19            0.0223      0.001     27.507      0.000       0.021       0.024\n",
       "x20            0.0290      0.000     63.351      0.000       0.028       0.030\n",
       "x21          115.7456      2.784     41.570      0.000     110.288     121.203\n",
       "x22            0.8950      0.098      9.115      0.000       0.703       1.087\n",
       "x23            0.0290      0.005      5.319      0.000       0.018       0.040\n",
       "x24            0.2985      0.180      1.659      0.097      -0.054       0.651\n",
       "x25           -0.0288      0.005     -5.710      0.000      -0.039      -0.019\n",
       "x26            0.0442      0.002     18.439      0.000       0.040       0.049\n",
       "x27            0.0003      0.000      1.759      0.079   -3.41e-05       0.001\n",
       "x28           -0.0051      0.007     -0.744      0.457      -0.018       0.008\n",
       "x29         4.442e-05      0.000      0.264      0.792      -0.000       0.000\n",
       "x30            0.0002   1.06e-05     23.088      0.000       0.000       0.000\n",
       "x31            0.0018      0.000      4.778      0.000       0.001       0.003\n",
       "x32        -1.022e-05   9.57e-06     -1.067      0.286    -2.9e-05    8.55e-06\n",
       "x33            0.0715      0.010      6.808      0.000       0.051       0.092\n",
       "x34         6.749e-05      0.000      0.189      0.850      -0.001       0.001\n",
       "x35            0.0003    1.8e-05     17.672      0.000       0.000       0.000\n",
       "x36            0.0003   5.67e-05      4.635      0.000       0.000       0.000\n",
       "x37         8.732e-06    3.7e-06      2.358      0.018    1.47e-06     1.6e-05\n",
       "x38        -6.319e-05      0.000     -0.521      0.603      -0.000       0.000\n",
       "x39        -9.161e-06   3.49e-06     -2.626      0.009    -1.6e-05   -2.32e-06\n",
       "x40         1.099e-06   3.14e-07      3.504      0.000    4.84e-07    1.71e-06\n",
       "x41        -1.335e-05   8.07e-06     -1.655      0.098   -2.92e-05    2.46e-06\n",
       "x42         2.028e-07   2.47e-07      0.820      0.412   -2.82e-07    6.88e-07\n",
       "x43            0.0002      0.000      0.830      0.407      -0.000       0.001\n",
       "x44         1.123e-05   8.09e-06      1.387      0.165   -4.64e-06    2.71e-05\n",
       "x45         4.725e-06   4.81e-07      9.821      0.000    3.78e-06    5.67e-06\n",
       "x46         2.667e-07   2.27e-08     11.737      0.000    2.22e-07    3.11e-07\n",
       "x47         6.708e-06   4.74e-07     14.164      0.000    5.78e-06    7.64e-06\n",
       "x48          1.44e-07   1.66e-08      8.650      0.000    1.11e-07    1.77e-07\n",
       "x49          4.22e-05   1.16e-05      3.626      0.000    1.94e-05     6.5e-05\n",
       "x50        -1.507e-06    4.7e-07     -3.210      0.001   -2.43e-06   -5.87e-07\n",
       "x51         3.954e-08   2.52e-08      1.567      0.117   -9.92e-09     8.9e-08\n",
       "x52           -0.0065      0.000    -19.270      0.000      -0.007      -0.006\n",
       "x53        -2.048e-05   1.84e-05     -1.116      0.265   -5.65e-05    1.55e-05\n",
       "x54        -2.168e-05   7.06e-07    -30.699      0.000   -2.31e-05   -2.03e-05\n",
       "x55        -1.447e-05   2.22e-07    -65.235      0.000   -1.49e-05    -1.4e-05\n",
       "x56           -1.7134      0.162    -10.562      0.000      -2.031      -1.395\n",
       "x57           -0.1932      0.071     -2.724      0.006      -0.332      -0.054\n",
       "x58           -1.3996      0.080    -17.437      0.000      -1.557      -1.242\n",
       "x59            0.6591      0.069      9.568      0.000       0.524       0.794\n",
       "==============================================================================\n",
       "Omnibus:                     2437.790   Durbin-Watson:                   0.139\n",
       "Prob(Omnibus):                  0.000   Jarque-Bera (JB):             2629.692\n",
       "Skew:                          -0.406   Prob(JB):                         0.00\n",
       "Kurtosis:                       3.099   Cond. No.                     7.12e+11\n",
       "==============================================================================\n",
       "\n",
       "Notes:\n",
       "[1] Standard Errors assume that the covariance matrix of the errors is correctly specified.\n",
       "[2] The condition number is large, 7.12e+11. This might indicate that there are\n",
       "strong multicollinearity or other numerical problems.\n",
       "\"\"\""
      ]
     },
     "execution_count": 131,
     "metadata": {},
     "output_type": "execute_result"
    }
   ],
   "source": [
    "model_poly.summary()"
   ]
  },
  {
   "cell_type": "code",
   "execution_count": null,
   "id": "8932c20c",
   "metadata": {},
   "outputs": [],
   "source": []
  }
 ],
 "metadata": {
  "kernelspec": {
   "display_name": "Python 3 (ipykernel)",
   "language": "python",
   "name": "python3"
  },
  "language_info": {
   "codemirror_mode": {
    "name": "ipython",
    "version": 3
   },
   "file_extension": ".py",
   "mimetype": "text/x-python",
   "name": "python",
   "nbconvert_exporter": "python",
   "pygments_lexer": "ipython3",
   "version": "3.9.15"
  }
 },
 "nbformat": 4,
 "nbformat_minor": 5
}
