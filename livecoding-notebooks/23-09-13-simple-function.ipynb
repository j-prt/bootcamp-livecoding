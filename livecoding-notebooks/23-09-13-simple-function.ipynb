{
 "cells": [
  {
   "cell_type": "markdown",
   "id": "75dded25",
   "metadata": {},
   "source": [
    "Given an array of integers.\n",
    "\n",
    "Return an array, where the first element is the count of positives numbers and the second element is sum of negative numbers. 0 is neither positive nor negative.\n",
    "\n",
    "If the input is an empty array or is null, return an empty array.\n",
    "\n",
    "Example\n",
    "For input [1, 2, 3, 4, 5, 6, 7, 8, 9, 10, -11, -12, -13, -14, -15], you should return [10, -65]."
   ]
  },
  {
   "cell_type": "code",
   "execution_count": null,
   "id": "44c975ad",
   "metadata": {},
   "outputs": [],
   "source": [
    "[1, 2, 3, 4, 5, 6, 7, 8, 9, 10, -11, -12, -13, -14, -15] -> [10,-65]\n",
    "\n",
    "[0, 2, 3, 0, 5, 6, 7, 8, 9, 10, -11, -12, -13, -14] -> [8,-50]"
   ]
  },
  {
   "cell_type": "code",
   "execution_count": 2,
   "id": "443559b1",
   "metadata": {},
   "outputs": [
    {
     "name": "stdout",
     "output_type": "stream",
     "text": [
      "[10, -65]\n",
      "[8, -50]\n"
     ]
    }
   ],
   "source": [
    "def count_pos_sum_neg(input_list):\n",
    "    \n",
    "    # Variable for tracking positive numbers \n",
    "    pos_count = 0\n",
    "    # Variable for tracking sum of negatives \n",
    "    neg_sum = 0\n",
    "    \n",
    "    # Loop over each item in the list, counting if positive\n",
    "    # and summing if the item is negative \n",
    "    \n",
    "    for item in input_list:\n",
    "        # Handle the positive case\n",
    "        if item > 0:\n",
    "            pos_count += 1 \n",
    "        # Handle the negative case \n",
    "        else:\n",
    "            neg_sum += item \n",
    "            \n",
    "    # Return as list per requirements  \n",
    "    return [pos_count, neg_sum]\n",
    "    \n",
    "first_list = [1, 2, 3, 4, 5, 6, 7, 8, 9, 10, -11, -12, -13, -14, -15]\n",
    "second_list = [0, 2, 3, 0, 5, 6, 7, 8, 9, 10, -11, -12, -13, -14]\n",
    "\n",
    "print(count_pos_sum_neg(first_list))\n",
    "print(count_pos_sum_neg(second_list))"
   ]
  },
  {
   "cell_type": "code",
   "execution_count": 3,
   "id": "54b64a90",
   "metadata": {},
   "outputs": [
    {
     "name": "stdout",
     "output_type": "stream",
     "text": [
      "[10, -65]\n",
      "[8, -50]\n"
     ]
    }
   ],
   "source": [
    "# Don't do this \n",
    "def cpsn(il):\n",
    "    x = 0\n",
    "    y = 0\n",
    "    for i in il:\n",
    "        if i > 0:\n",
    "            x += 1 \n",
    "        else:\n",
    "            y += i \n",
    "    return [x, y]\n",
    "print(cpsn(first_list))\n",
    "print(cpsn(second_list))"
   ]
  },
  {
   "cell_type": "code",
   "execution_count": 4,
   "id": "74b39b34",
   "metadata": {},
   "outputs": [
    {
     "name": "stdout",
     "output_type": "stream",
     "text": [
      "[10, -65]\n",
      "[8, -50]\n",
      "[0, 0]\n",
      "[0, 0]\n"
     ]
    }
   ],
   "source": [
    "# Add handling for empty arrays \n",
    "\n",
    "def count_pos_sum_neg(input_list):\n",
    "    # Handle the null case \n",
    "    if not input_list:\n",
    "        return [0, 0]\n",
    "    \n",
    "    # Variable for tracking positive numbers \n",
    "    pos_count = 0\n",
    "    # Variable for tracking sum of negatives \n",
    "    neg_sum = 0\n",
    "    \n",
    "    # Loop over each item in the list, counting if positive\n",
    "    # and summing if the item is negative \n",
    "    \n",
    "    for item in input_list:\n",
    "        # Handle the positive case\n",
    "        if item > 0:\n",
    "            pos_count += 1 \n",
    "        # Handle the negative case \n",
    "        else:\n",
    "            neg_sum += item \n",
    "            \n",
    "    # Return as list per requirements  \n",
    "    return [pos_count, neg_sum]\n",
    "    \n",
    "first_list = [1, 2, 3, 4, 5, 6, 7, 8, 9, 10, -11, -12, -13, -14, -15]\n",
    "second_list = [0, 2, 3, 0, 5, 6, 7, 8, 9, 10, -11, -12, -13, -14]\n",
    "\n",
    "print(count_pos_sum_neg(first_list))\n",
    "print(count_pos_sum_neg(second_list))\n",
    "print(count_pos_sum_neg([]))\n",
    "print(count_pos_sum_neg(None))"
   ]
  }
 ],
 "metadata": {
  "kernelspec": {
   "display_name": "Python 3 (ipykernel)",
   "language": "python",
   "name": "python3"
  },
  "language_info": {
   "codemirror_mode": {
    "name": "ipython",
    "version": 3
   },
   "file_extension": ".py",
   "mimetype": "text/x-python",
   "name": "python",
   "nbconvert_exporter": "python",
   "pygments_lexer": "ipython3",
   "version": "3.8.16"
  }
 },
 "nbformat": 4,
 "nbformat_minor": 5
}
