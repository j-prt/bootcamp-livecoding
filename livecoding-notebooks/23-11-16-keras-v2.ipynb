{
 "cells": [
  {
   "cell_type": "code",
   "execution_count": null,
   "id": "3523e6d6",
   "metadata": {},
   "outputs": [],
   "source": [
    "import numpy as np\n",
    "import pandas as pd\n",
    "import tensorflow as tf\n",
    "from tensorflow import keras\n",
    "from keras import activations\n",
    "from keras import optimizers\n",
    "from keras import layers\n",
    "from keras import losses\n",
    "from keras.models import Sequential, Model\n",
    "from keras.layers import Input, Dense, Activation, Dropout\n",
    "from sklearn.preprocessing import StandardScaler\n",
    "from sklearn.model_selection import train_test_split\n",
    "from sklearn.datasets import fetch_california_housing"
   ]
  },
  {
   "cell_type": "code",
   "execution_count": null,
   "id": "e91e9627",
   "metadata": {},
   "outputs": [],
   "source": [
    "# Useful links:\n",
    "# All official Keras guides: https://keras.io/guides/\n",
    "\n",
    "# Building a model\n",
    "# Sequential (class-based) guide: https://keras.io/guides/sequential_model/\n",
    "# Functional guide: https://keras.io/guides/functional_api/\n",
    "\n",
    "# Layers\n",
    "# Activation functions: https://keras.io/api/layers/activations/\n",
    "# Initializers https://keras.io/api/layers/initializers/\n",
    "\n",
    "# Compilation\n",
    "# Losses: https://keras.io/api/losses/\n",
    "# Optimizers: https://keras.io/api/optimizers/"
   ]
  },
  {
   "cell_type": "code",
   "execution_count": null,
   "id": "43c6aab1",
   "metadata": {},
   "outputs": [],
   "source": [
    "# Load some toy data\n",
    "housing = fetch_california_housing(as_frame=True)"
   ]
  },
  {
   "cell_type": "code",
   "execution_count": null,
   "id": "c3b1a0ba",
   "metadata": {},
   "outputs": [],
   "source": [
    "X = housing.data"
   ]
  },
  {
   "cell_type": "code",
   "execution_count": null,
   "id": "2cd412da",
   "metadata": {},
   "outputs": [],
   "source": [
    "y = housing.target"
   ]
  },
  {
   "cell_type": "code",
   "execution_count": null,
   "id": "2602703e",
   "metadata": {},
   "outputs": [],
   "source": [
    "X, X_test, y, y_test = train_test_split(X, y, random_state=42)"
   ]
  },
  {
   "cell_type": "code",
   "execution_count": null,
   "id": "456d1eca",
   "metadata": {},
   "outputs": [],
   "source": [
    "X"
   ]
  },
  {
   "cell_type": "code",
   "execution_count": null,
   "id": "0d8db0fe",
   "metadata": {},
   "outputs": [],
   "source": [
    "scaler = StandardScaler()\n",
    "X = scaler.fit_transform(X)\n",
    "X_test = scaler.transform(X_test)"
   ]
  },
  {
   "cell_type": "code",
   "execution_count": null,
   "id": "baf5c1dd",
   "metadata": {},
   "outputs": [],
   "source": [
    "X"
   ]
  },
  {
   "cell_type": "code",
   "execution_count": null,
   "id": "9d8e14bc",
   "metadata": {},
   "outputs": [],
   "source": [
    "y"
   ]
  },
  {
   "cell_type": "code",
   "execution_count": null,
   "id": "9197a707",
   "metadata": {
    "scrolled": true
   },
   "outputs": [],
   "source": [
    "# Sequential model - class based\n",
    "# https://keras.io/api/models/sequential/\n",
    "# Input has to match the columns in your X \n",
    "input_shape = (8,)\n",
    "# Takes a list of layers\n",
    "model = keras.Sequential(\n",
    "    [\n",
    "        keras.Input(shape=input_shape),\n",
    "        layers.Dense(100, input_shape=input_shape, activation=activations.relu),\n",
    "        layers.Dense(100, activation=\"relu\"),\n",
    "        layers.Dropout(.5),\n",
    "        layers.Dense(100, activation=\"relu\"),\n",
    "        layers.Dense(1, activation=\"linear\"),\n",
    "    ]\n",
    ")\n",
    "model.summary()"
   ]
  },
  {
   "cell_type": "code",
   "execution_count": null,
   "id": "3e9e27a7",
   "metadata": {},
   "outputs": [],
   "source": [
    "model.compile(loss='mean_squared_error', optimizer=\"adam\")"
   ]
  },
  {
   "cell_type": "code",
   "execution_count": null,
   "id": "704e2cdf",
   "metadata": {
    "scrolled": false
   },
   "outputs": [],
   "source": [
    "model.fit(X, y, batch_size=16, epochs=100, validation_split=0.2)"
   ]
  },
  {
   "cell_type": "code",
   "execution_count": null,
   "id": "53cb7373",
   "metadata": {},
   "outputs": [],
   "source": [
    "import matplotlib.pyplot as plt\n",
    "plt.figure(figsize=(10,5))\n",
    "plt.plot(model.history.history['loss'], label='Train')\n",
    "plt.plot(model.history.history['val_loss'], label='Validation')\n",
    "plt.title('Mean Squared Error')\n",
    "plt.ylabel('MSE')\n",
    "plt.xlabel('Epoch')\n",
    "plt.legend()\n",
    "plt.show()"
   ]
  },
  {
   "cell_type": "code",
   "execution_count": null,
   "id": "e56a868a",
   "metadata": {},
   "outputs": [],
   "source": [
    "y_pred = model.predict(X_test)"
   ]
  },
  {
   "cell_type": "code",
   "execution_count": null,
   "id": "68474b1b",
   "metadata": {},
   "outputs": [],
   "source": [
    "y_pred.reshape(-1)"
   ]
  },
  {
   "cell_type": "code",
   "execution_count": null,
   "id": "ca3e6f25",
   "metadata": {},
   "outputs": [],
   "source": [
    "np.mean((y_pred.reshape(-1) - y_test)**2)"
   ]
  },
  {
   "cell_type": "code",
   "execution_count": null,
   "id": "db12c259",
   "metadata": {},
   "outputs": [],
   "source": [
    "# You can also construct a Sequential model this way\n",
    "model = Sequential()"
   ]
  },
  {
   "cell_type": "code",
   "execution_count": null,
   "id": "300d96c0",
   "metadata": {},
   "outputs": [],
   "source": [
    "model.add(Dense(10, input_shape=(8,), activation=activations.relu))\n",
    "model.add(Dense(10, activation=activations.relu))\n",
    "model.add(Dense(1, activation=activations.linear))"
   ]
  },
  {
   "cell_type": "code",
   "execution_count": null,
   "id": "d5966e1a",
   "metadata": {},
   "outputs": [],
   "source": [
    "model.compile(loss=losses.mean_squared_error, optimizer=optimizers.Adam())"
   ]
  },
  {
   "cell_type": "code",
   "execution_count": null,
   "id": "00d0a452",
   "metadata": {},
   "outputs": [],
   "source": [
    "model.fit(X, y, batch_size=16, epochs=1000, validation_split=0.2)"
   ]
  },
  {
   "cell_type": "code",
   "execution_count": null,
   "id": "f6cfbbdb",
   "metadata": {},
   "outputs": [],
   "source": [
    "f = lambda x: x**2\n",
    "f(4)"
   ]
  },
  {
   "cell_type": "code",
   "execution_count": null,
   "id": "6d7fcf01",
   "metadata": {},
   "outputs": [],
   "source": [
    "# Example of currying\n",
    "(lambda x: x**2)(5)"
   ]
  },
  {
   "cell_type": "code",
   "execution_count": null,
   "id": "749cb501",
   "metadata": {},
   "outputs": [],
   "source": [
    "# The functional API - each layer is passed into the next and a \n",
    "# Model object is instantiated with the input and output layers\n",
    "input = Input(shape=(8,))\n",
    "e = Dense(500, activation=\"relu\", kernel_regularizer='l2')(input)\n",
    "f = layers.BatchNormalization()(e)\n",
    "g = layers.Dropout(.5)(Dense(500, activation=\"relu\", kernel_regularizer='l2')(f))\n",
    "h = layers.BatchNormalization()(Dense(500, activation=\"relu\", kernel_regularizer='l2')(g))\n",
    "i = layers.Dropout(.5)(Dense(500, activation=\"relu\", kernel_regularizer='l2')(h))\n",
    "j = Dense(500, activation=\"relu\", kernel_regularizer='l2')(i)\n",
    "\n",
    "\n",
    "output = Dense(1, activation=\"linear\")(j)"
   ]
  },
  {
   "cell_type": "code",
   "execution_count": null,
   "id": "1d6bddf5",
   "metadata": {},
   "outputs": [],
   "source": [
    "# Examine the outputs of an individual layer\n",
    "f"
   ]
  },
  {
   "cell_type": "code",
   "execution_count": null,
   "id": "908c3333",
   "metadata": {},
   "outputs": [],
   "source": [
    "# output represents the end of the computational graph \n",
    "output"
   ]
  },
  {
   "cell_type": "code",
   "execution_count": null,
   "id": "c2c23e85",
   "metadata": {},
   "outputs": [],
   "source": [
    "# Pass input and output; keras handles the rest\n",
    "model = Model(input, output)"
   ]
  },
  {
   "cell_type": "code",
   "execution_count": null,
   "id": "f23ea5da",
   "metadata": {},
   "outputs": [],
   "source": [
    "type(model)"
   ]
  },
  {
   "cell_type": "code",
   "execution_count": null,
   "id": "3b71c70f",
   "metadata": {},
   "outputs": [],
   "source": [
    "model.summary()"
   ]
  },
  {
   "cell_type": "code",
   "execution_count": null,
   "id": "6deb77fa",
   "metadata": {},
   "outputs": [],
   "source": [
    "model.compile(loss='mse', optimizer='adam')"
   ]
  },
  {
   "cell_type": "code",
   "execution_count": null,
   "id": "8e55284e",
   "metadata": {},
   "outputs": [],
   "source": [
    "model.fit(X, y, batch_size=64, epochs=200, validation_split=0.2)"
   ]
  },
  {
   "cell_type": "code",
   "execution_count": null,
   "id": "21014c99",
   "metadata": {},
   "outputs": [],
   "source": []
  }
 ],
 "metadata": {
  "kernelspec": {
   "display_name": "Python 3 (ipykernel)",
   "language": "python",
   "name": "python3"
  },
  "language_info": {
   "codemirror_mode": {
    "name": "ipython",
    "version": 3
   },
   "file_extension": ".py",
   "mimetype": "text/x-python",
   "name": "python",
   "nbconvert_exporter": "python",
   "pygments_lexer": "ipython3",
   "version": "3.11.3"
  }
 },
 "nbformat": 4,
 "nbformat_minor": 5
}
